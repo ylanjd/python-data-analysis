{
  "cells": [
    {
      "cell_type": "markdown",
      "metadata": {
        "id": "view-in-github",
        "colab_type": "text"
      },
      "source": [
        "<a href=\"https://colab.research.google.com/github/ylanjd/python-data-analysis/blob/main/Copy_of_LoopsChallenges.ipynb\" target=\"_parent\"><img src=\"https://colab.research.google.com/assets/colab-badge.svg\" alt=\"Open In Colab\"/></a>"
      ]
    },
    {
      "cell_type": "markdown",
      "metadata": {
        "id": "Vvcpt-18AqVE"
      },
      "source": [
        "<a href=\"https://colab.research.google.com/github/StefanMeyer7/Python-Fundamentals/blob/main/LoopsChallenges.ipynb\" target=\"_parent\"><img src=\"https://colab.research.google.com/assets/colab-badge.svg\" alt=\"Open In Colab\"/></a>"
      ]
    },
    {
      "cell_type": "markdown",
      "metadata": {
        "id": "g5rcFjEdS6JG"
      },
      "source": [
        "# Loop Challenges\n",
        "\n",
        "---\n",
        "\n",
        "Each of these challenges will need a loop.  This may be a **while** loop or a **for** loop, you will need to decide which is needed."
      ]
    },
    {
      "cell_type": "code",
      "execution_count": null,
      "metadata": {
        "id": "7-LF5xNES60g"
      },
      "outputs": [],
      "source": [
        "---\n",
        "## Challenge 1 - Sum of random numbers\n",
        "Write a function called **random_generator()** where python generates random numbers between 1 and 100 until the number 1 is generated.\n",
        "\n",
        "* use `randint(1, 100)` to generate random numbers\n",
        "* keep a running `total` - add numbers as they are generated\n",
        "* print `total` at the end\n",
        "* print the final generated number (should be 1) to check your function is working\n",
        "\n",
        "Example input (computer):\n",
        "\n",
        "10\n",
        "78\n",
        "6\n",
        "42\n",
        "56\n",
        "81\n",
        "15\n",
        "1\n",
        "\n",
        "Expected output:\n",
        "\n",
        "289\n",
        "1"
      ]
    },
    {
      "cell_type": "code",
      "execution_count": null,
      "metadata": {
        "id": "9xiowSv3S-Z9",
        "colab": {
          "base_uri": "https://localhost:8080/"
        },
        "outputId": "3021aa14-3df0-4156-f353-e4e617e02230"
      },
      "outputs": [
        {
          "output_type": "stream",
          "name": "stdout",
          "text": [
            "443\n",
            "1\n"
          ]
        }
      ],
      "source": [
        "import random\n",
        "\n",
        "def random_generator():\n",
        "  total = 0\n",
        "  random_number = None\n",
        "\n",
        "  while random_number != 1:\n",
        "    random_number = random.randint(1, 100)\n",
        "    total += random_number\n",
        "\n",
        "  print(total)\n",
        "  print(random_number)\n",
        "\n",
        "random_generator()"
      ]
    },
    {
      "cell_type": "markdown",
      "metadata": {
        "id": "wyrNicTMS_gA"
      },
      "source": [
        "---\n",
        "## Challenge 2 - Factorials\n",
        "\n",
        "Factorial of any number n is represented by n! and is equal to 1*2*3*....*(n-1)*n.\n",
        "\n",
        "E.g.   \n",
        "* 4! = 1 * 2 * 3 * 4 = 24  \n",
        "* 3! = 3 * 2 * 1 = 6\n",
        "* 2! = 2 * 1 = 2  \n",
        " Also,\n",
        "* 1! = 1\n",
        "* 0! = 1\n",
        "\n",
        "Write a function called **calculate_factorial()** which calculates the factorial of a user inputed number.\n",
        "\n",
        "* use a *while* loop to control repetition while the number being multiplied by is less than or equal to the number it is finding the factorial of, multiply each time round the loop  \n",
        "* print the answer at the end\n",
        "\n",
        "Test input:  \n",
        "\n",
        "6   \n",
        "10  \n",
        "1  \n",
        "0  \n",
        "\n",
        "Expected output:  \n",
        "\n",
        "720  \n",
        "3,628,800  \n",
        "1  \n",
        "1  \n",
        "\n",
        "### Extra challenge\n",
        "\n",
        "Can you write a function to calculate factorials but using a *for* loop instead?\n",
        "\n",
        "\n"
      ]
    },
    {
      "cell_type": "code",
      "execution_count": 6,
      "metadata": {
        "id": "4g2VEOisTAVD",
        "colab": {
          "base_uri": "https://localhost:8080/"
        },
        "outputId": "f0c85b77-53c2-4a9e-8109-65256f92234a"
      },
      "outputs": [
        {
          "output_type": "stream",
          "name": "stdout",
          "text": [
            "Enter a number: 6\n",
            "1\n",
            "2\n",
            "6\n",
            "24\n",
            "120\n",
            "720\n"
          ]
        }
      ],
      "source": [
        "def calculate_factorial():\n",
        "  number = int(input(\"Enter a number: \"))\n",
        "  factorial = 1\n",
        "  multiplier = 1\n",
        "\n",
        "  while multiplier <= number:\n",
        "    factorial *= multiplier\n",
        "    multiplier += 1\n",
        "    print(factorial)\n",
        "calculate_factorial()"
      ]
    },
    {
      "cell_type": "markdown",
      "metadata": {
        "id": "Ygv7l2dQTBvg"
      },
      "source": [
        "---\n",
        "## Challenge 3 - rolling a dice\n",
        "\n",
        "Write a function called **roll_dice()** that will use the `randint()` function from random to create random dice rolls for two dice.\n",
        "\n",
        "*  'roll' the two dice 6 times and count how many doubles were rolled in those 6 rolls.\n",
        "*  use a *for* loop\n",
        "\n",
        "*Hint: to throw a dice use the following:*\n",
        "\n",
        "`dice1 = randint(1,6)`\n",
        "\n",
        "Example input (computer):  \n",
        "\n",
        "4 1   \n",
        "5 5   \n",
        "6 3   \n",
        "2 2   \n",
        "3 4  \n",
        "1 1\n",
        "\n",
        "Expected output:\n",
        "\n",
        "3   "
      ]
    },
    {
      "cell_type": "code",
      "execution_count": 2,
      "metadata": {
        "id": "POAOeLsPTCl_",
        "colab": {
          "base_uri": "https://localhost:8080/"
        },
        "outputId": "114c721e-92b9-4d2b-b23d-c4acd2f5cdbf"
      },
      "outputs": [
        {
          "output_type": "stream",
          "name": "stdout",
          "text": [
            "1\n"
          ]
        }
      ],
      "source": [
        "from random import randint\n",
        "\n",
        "# Add your function below here\n",
        "def roll_dice():\n",
        "  doubles_count = 0\n",
        "\n",
        "  for x in range(6):\n",
        "    dice1 = randint(1,6)\n",
        "    dice2 = randint(1,6)\n",
        "\n",
        "    if dice1 == dice2:\n",
        "      doubles_count += 1\n",
        "\n",
        "  print(f\"{doubles_count}\")\n",
        "\n",
        "\n",
        "\n",
        "\n",
        "\n",
        "roll_dice()\n",
        "\n",
        "\n"
      ]
    },
    {
      "cell_type": "markdown",
      "metadata": {
        "id": "5M54SutJTEGn"
      },
      "source": [
        "---\n",
        "## Challenge 4 - fizz buzz\n",
        "\n",
        "Write a function called **fizz_buzz()** using a *for* loop which:\n",
        "\n",
        "* iterates over the numbers 1 to 30   \n",
        "* if the **number** is a multiple of 3 - print \"fizz\" instead of the `number`  \n",
        "* if it is a multiple of 5 - print \"buzz\" instead of the `number`   \n",
        "* if it is a multiple of both 3 and 5 - print \"fizzbuzz\" instead of the `number`    \n",
        "\n",
        "Expected Output:   \n",
        "1  \n",
        "2  \n",
        "fizz  \n",
        "4  \n",
        "buzz  \n",
        "fizz  \n",
        "7  \n",
        "8  \n",
        "fizz  \n",
        "buzz  \n",
        "11  \n",
        "fizz  \n",
        "13  \n",
        "14  \n",
        "fizz  \n",
        "16  \n",
        "17  \n",
        "fizz  \n",
        "19  \n",
        "20  \n",
        "fizz  \n",
        "22  \n",
        "23  \n",
        "fizz  \n",
        "25  \n",
        "26  \n",
        "fizz  \n",
        "28  \n",
        "29  \n",
        "fizzbuzz  "
      ]
    },
    {
      "cell_type": "code",
      "execution_count": null,
      "metadata": {
        "id": "jWibkGirTF1i",
        "colab": {
          "base_uri": "https://localhost:8080/"
        },
        "outputId": "60d36d40-8dfe-4d8a-aa1f-2811b4dfb354"
      },
      "outputs": [
        {
          "output_type": "stream",
          "name": "stdout",
          "text": [
            "1\n",
            "2\n",
            "fizz\n",
            "4\n",
            "buzz\n",
            "fizz\n",
            "7\n",
            "8\n",
            "fizz\n",
            "buzz\n",
            "11\n",
            "fizz\n",
            "13\n",
            "14\n",
            "fizzbuzz\n",
            "16\n",
            "17\n",
            "fizz\n",
            "19\n",
            "buzz\n",
            "fizz\n",
            "22\n",
            "23\n",
            "fizz\n",
            "buzz\n",
            "26\n",
            "fizz\n",
            "28\n",
            "29\n",
            "fizzbuzz\n"
          ]
        }
      ],
      "source": [
        "def fizz_buzz():\n",
        "  for i in range(1, 31):\n",
        "    if i % 3 == 0 and i % 5 == 0:\n",
        "      print(\"fizzbuzz\")\n",
        "    elif i % 3 == 0:\n",
        "      print(\"fizz\")\n",
        "    elif i % 5 == 0:\n",
        "      print(\"buzz\")\n",
        "    else:\n",
        "      print(i)\n",
        "fizz_buzz()"
      ]
    },
    {
      "cell_type": "markdown",
      "metadata": {
        "id": "FYH6Wb8BTH8S"
      },
      "source": [
        "---\n",
        "## Challenge 5 - perfect numbers\n",
        "\n",
        "Write a function called **check_perfect()** which checks whether a given number is perfect or not.\n",
        "\n",
        "* *a perfect number is a positive integer that is equal to the sum of its positive factors (factors > 0) excluding the number itself.*\n",
        "* *it is also half the sum of all positive factors including itself*\n",
        "\n",
        "\n",
        "*For example:*  \n",
        "*6 is a perfect number. It's only factors are 1, 2 & 3.   \n",
        "1 + 2 + 3 = 6  \n",
        "(1 + 2 + 3 + 6)/2 =6*  \n",
        "\n",
        "**Your function will:**\n",
        "\n",
        "* ask the user to input a **number**\n",
        "* find all of the given numbers that are positive factors, adding them together as it goes through the loop\n",
        "* check whether `number` is perfect or not (both checks)  \n",
        "* print either `number` is perfect or `number` is not perfect\n",
        "\n",
        "Test input:  \n",
        "6   \n",
        "23   \n",
        "28\n",
        "\n",
        "Expected output:  \n",
        "6 is perfect   \n",
        "23 is not perfect  \n",
        "28 is perfect    \n",
        "\n",
        "\n",
        "\n"
      ]
    },
    {
      "cell_type": "code",
      "execution_count": null,
      "metadata": {
        "id": "sIozWG1ITIot",
        "colab": {
          "base_uri": "https://localhost:8080/"
        },
        "outputId": "8989e295-f570-4a8a-ea1a-a5095078a529"
      },
      "outputs": [
        {
          "output_type": "stream",
          "name": "stdout",
          "text": [
            "Enter a number: 27\n",
            "27 is not perfect\n"
          ]
        }
      ],
      "source": [
        "def check_perfect():\n",
        "  number = int(input(\"Enter a number: \"))\n",
        "  factors_sum = 0\n",
        "\n",
        "  for i in range(1, number):\n",
        "    if number % i == 0:\n",
        "      factors_sum += i\n",
        "  if factors_sum == number and (factors_sum + number) / 2 == number:\n",
        "    print(f\"{number} is a perfect\")\n",
        "  else:\n",
        "    print(f\"{number} is not perfect\")\n",
        "\n",
        "check_perfect()"
      ]
    },
    {
      "cell_type": "markdown",
      "metadata": {
        "id": "fzDqi_nnTLbB"
      },
      "source": [
        "## Challenge 6 - Passcode   \n",
        "\n",
        "Write a function called **guess_letter(passcode, missing_letter)** which will allow a user to play a game with the computer.  \n",
        "\n",
        "* the computer needs to 'generate' a random passcode with a missing letter (this is done for you)   \n",
        "* the user has up to three attempts to guess the missing letter in a passcode.  \n",
        "\n",
        "### the passcode generator  \n",
        "\n",
        "This code is given to you and will choose 4 letters in the range A-Z (capitals only) and randomly selecting one to be replaced by a *  \n",
        "\n",
        "**Your function should follow these rules:**\n",
        "\n",
        "*  ask the user to enter the missing **letter**  \n",
        "*  count the **attempt**  \n",
        "* if the letter is correct, print the message \"Correct passcode\" and then stop    \n",
        "* if the letter is incorrect, print the message, \"You have `attempts` attempts left\"  \n",
        "* if three wrong attempts have been made and the user hasn't entered the correct letter, print \"No more attempts\"  \n",
        "\n",
        "Example input (computer):  \n",
        "\n",
        "NR*R , B\n",
        "\n",
        "Example input (user):  \n",
        "A    \n",
        "B  \n",
        "C  \n",
        "\n",
        "Expected output:  \n",
        "No more attempts   \n",
        "\n",
        "Example input (computer):  \n",
        "A*RD , T  \n",
        "\n",
        "Example input (user):  \n",
        "T    \n",
        "\n",
        "Expected output:  \n",
        "Correct passcode  \n",
        "\n",
        "Example input (computer):  \n",
        "*FES , F  \n",
        "\n",
        "Example input (user):  \n",
        "T\n",
        "F    \n",
        "\n",
        "Expected output:  \n",
        "You have 2 attempts left\n",
        "Correct passcode"
      ]
    },
    {
      "cell_type": "code",
      "execution_count": 4,
      "metadata": {
        "id": "QinC49_9TTZG",
        "colab": {
          "base_uri": "https://localhost:8080/"
        },
        "outputId": "4ceb8a3e-0477-417a-cd83-f9fb93c0b134"
      },
      "outputs": [
        {
          "output_type": "stream",
          "name": "stdout",
          "text": [
            "Enter missing letterS\n",
            "You have 2  attemps left\n",
            "Enter missing letterF\n",
            "You have 1  attemps left\n",
            "Enter missing letterG\n",
            "You have 0  attemps left\n",
            "No more attempts\n"
          ]
        }
      ],
      "source": [
        "### importing package random\n",
        "from random import choice, randint\n",
        "\n",
        "def guess_passcode(passcode, missing_letter):\n",
        "# add your code below here:\n",
        "  i = 0\n",
        "  while i < 3:\n",
        "    letter = input(\"Enter missing letter\")\n",
        "    i += 1\n",
        "    if letter == missing_letter:\n",
        "      print(\"Correct passcode\")\n",
        "      break\n",
        "    else:\n",
        "      print(\"You have\", 3 - i, \" attemps left\")\n",
        "  print(\"No more attempts\")\n",
        "\n",
        "\n",
        "\n",
        "\n",
        "### code to generate a passcode with a missing letter, then run the function guess_passcode\n",
        "### DO NOT change anything below here\n",
        "passcode = \"\"\n",
        "letters = [chr(a) for a in range(ord('A'),ord('Z')+1)] # generate the letter between A and Z\n",
        "missing_position = randint(0,4)\n",
        "missing_letter = \"*\"\n",
        "for i in range(4):\n",
        "  letter = choice(letters)\n",
        "  if i == missing_position:\n",
        "    missing_letter = letter\n",
        "    passcode += \"*\"\n",
        "  else:\n",
        "    passcode += letter\n",
        "\n",
        "guess_passcode(passcode, missing_letter)"
      ]
    }
  ],
  "metadata": {
    "colab": {
      "provenance": [],
      "include_colab_link": true
    },
    "kernelspec": {
      "display_name": "Python 3",
      "name": "python3"
    },
    "language_info": {
      "name": "python"
    }
  },
  "nbformat": 4,
  "nbformat_minor": 0
}