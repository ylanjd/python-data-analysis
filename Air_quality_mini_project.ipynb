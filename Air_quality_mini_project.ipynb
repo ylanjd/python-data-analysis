{
 "cells": [
  {
   "cell_type": "markdown",
   "metadata": {
    "colab_type": "text",
    "id": "view-in-github"
   },
   "source": [
    "<a href=\"https://colab.research.google.com/github/futureCodersSE/python-programming-for-data/blob/main/Worksheets/Air_quality_mini_project.ipynb\" target=\"_parent\"><img src=\"https://colab.research.google.com/assets/colab-badge.svg\" alt=\"Open In Colab\"/></a>"
   ]
  },
  {
   "cell_type": "markdown",
   "metadata": {
    "id": "8qnlsapq24Df"
   },
   "source": [
    "# Clean and wrangle air quality data\n",
    "\n",
    "The following data file contains data collected at a roadside monitoring station.  You can see the data in a spreadsheet here: https://docs.google.com/spreadsheets/d/1XpAvrpuyMsKDO76EZ3kxuddBOu7cZX1Od4uEts14zco/edit?usp=sharing\n",
    "\n",
    "The data contains:\n",
    "* a heading line (Chatham Roadside) which needs to be skipped\n",
    "* dates which are sometimes left- and sometimes right-justified indicating that they are not formatted as dates, rather they are text (so need to be converted to dates)\n",
    "* times which are not all in the same format\n",
    "* Nitrogen Dioxide levels which are, again, text and sometimes contain nodata\n",
    "* Status which is always the same\n",
    "\n",
    "\n",
    "\n"
   ]
  },
  {
   "cell_type": "markdown",
   "metadata": {
    "id": "SSvLiFnp4LjG"
   },
   "source": [
    "### Project - clean, sort and wrangle the data\n",
    "\n",
    "Read the dataset into a dataframe, skipping the first row   \n",
    "Convert dates to date format  \n",
    "Remove rows with nodata in the Nitrogen dioxide column  \n",
    "Convert the Nitrogen dioxide levels values to float type  \n",
    "Sort by Nitrogen dioxide level  \n",
    "Create a new column for 'Weekdays' (use df['Date'].dt.weekday)  \n",
    "Rename the column Nitrogen dioxide level to NO2 Level (V ug/m2)  \n",
    "Remove the Status column  \n",
    "\n",
    "The dataset can be viewed here:  https://drive.google.com/file/d/1aYmBf9il2dWA-EROvbYRCZ1rU2t7JwvJ/view?usp=sharing  and the data accessed here: https://drive.google.com/uc?id=1SOe9b4VJ1FCtDVgZ2T8d00-jTw2Kux1i  This is a .csv file  \n",
    "\n",
    "**NOTE:** Some useful references are included at the bottom of this spreadsheet.\n",
    "\n",
    "Use the code cell below to work your code."
   ]
  },
  {
   "cell_type": "code",
   "execution_count": 4,
   "metadata": {
    "id": "txM4TIRUHhsJ",
    "tags": []
   },
   "outputs": [
    {
     "name": "stdout",
     "output_type": "stream",
     "text": [
      "<class 'pandas.core.frame.DataFrame'>\n",
      "RangeIndex: 8784 entries, 0 to 8783\n",
      "Data columns (total 4 columns):\n",
      " #   Column            Non-Null Count  Dtype \n",
      "---  ------            --------------  ----- \n",
      " 0   Date              8784 non-null   object\n",
      " 1   Time              8784 non-null   object\n",
      " 2   Nitrogen dioxide  8784 non-null   object\n",
      " 3   Status            8784 non-null   object\n",
      "dtypes: object(4)\n",
      "memory usage: 274.6+ KB\n"
     ]
    },
    {
     "data": {
      "text/plain": [
       "'nodata'"
      ]
     },
     "execution_count": 4,
     "metadata": {},
     "output_type": "execute_result"
    }
   ],
   "source": [
    "import pandas as pd\n",
    "\n",
    "air_df1 = pd.read_csv('https://drive.google.com/uc?id=1SOe9b4VJ1FCtDVgZ2T8d00-jTw2Kux1i', skiprows=1)\n",
    "air_df1.info() #At first glance there appears to be no missing data\n",
    "air_df1['Nitrogen dioxide'].min() #Shows a figure\n",
    "air_df1['Nitrogen dioxide'].max() #Shows a string 'nodata'"
   ]
  },
  {
   "cell_type": "code",
   "execution_count": 5,
   "metadata": {
    "tags": []
   },
   "outputs": [
    {
     "data": {
      "text/html": [
       "<div>\n",
       "<style scoped>\n",
       "    .dataframe tbody tr th:only-of-type {\n",
       "        vertical-align: middle;\n",
       "    }\n",
       "\n",
       "    .dataframe tbody tr th {\n",
       "        vertical-align: top;\n",
       "    }\n",
       "\n",
       "    .dataframe thead th {\n",
       "        text-align: right;\n",
       "    }\n",
       "</style>\n",
       "<table border=\"1\" class=\"dataframe\">\n",
       "  <thead>\n",
       "    <tr style=\"text-align: right;\">\n",
       "      <th></th>\n",
       "      <th>Date</th>\n",
       "      <th>Time</th>\n",
       "      <th>Nitrogen dioxide</th>\n",
       "      <th>Status</th>\n",
       "    </tr>\n",
       "  </thead>\n",
       "  <tbody>\n",
       "    <tr>\n",
       "      <th>0</th>\n",
       "      <td>2020-01-01</td>\n",
       "      <td>1:00</td>\n",
       "      <td>41.07113</td>\n",
       "      <td>V µg/m³</td>\n",
       "    </tr>\n",
       "    <tr>\n",
       "      <th>1</th>\n",
       "      <td>2020-01-01</td>\n",
       "      <td>2:00</td>\n",
       "      <td>38.9604</td>\n",
       "      <td>V µg/m³</td>\n",
       "    </tr>\n",
       "    <tr>\n",
       "      <th>2</th>\n",
       "      <td>2020-01-01</td>\n",
       "      <td>3:00</td>\n",
       "      <td>35.12313</td>\n",
       "      <td>V µg/m³</td>\n",
       "    </tr>\n",
       "    <tr>\n",
       "      <th>3</th>\n",
       "      <td>2020-01-01</td>\n",
       "      <td>4:00</td>\n",
       "      <td>35.85312</td>\n",
       "      <td>V µg/m³</td>\n",
       "    </tr>\n",
       "    <tr>\n",
       "      <th>4</th>\n",
       "      <td>2020-01-01</td>\n",
       "      <td>5:00</td>\n",
       "      <td>32.10503</td>\n",
       "      <td>V µg/m³</td>\n",
       "    </tr>\n",
       "    <tr>\n",
       "      <th>...</th>\n",
       "      <td>...</td>\n",
       "      <td>...</td>\n",
       "      <td>...</td>\n",
       "      <td>...</td>\n",
       "    </tr>\n",
       "    <tr>\n",
       "      <th>8779</th>\n",
       "      <td>2020-12-31</td>\n",
       "      <td>20:00</td>\n",
       "      <td>24.4694</td>\n",
       "      <td>V µg/m³</td>\n",
       "    </tr>\n",
       "    <tr>\n",
       "      <th>8780</th>\n",
       "      <td>2020-12-31</td>\n",
       "      <td>21:00</td>\n",
       "      <td>22.62313</td>\n",
       "      <td>V µg/m³</td>\n",
       "    </tr>\n",
       "    <tr>\n",
       "      <th>8781</th>\n",
       "      <td>2020-12-31</td>\n",
       "      <td>22:00</td>\n",
       "      <td>20.3186</td>\n",
       "      <td>V µg/m³</td>\n",
       "    </tr>\n",
       "    <tr>\n",
       "      <th>8782</th>\n",
       "      <td>2020-12-31</td>\n",
       "      <td>23:00</td>\n",
       "      <td>21.47177</td>\n",
       "      <td>V µg/m³</td>\n",
       "    </tr>\n",
       "    <tr>\n",
       "      <th>8783</th>\n",
       "      <td>2020-12-31</td>\n",
       "      <td>24:00:00</td>\n",
       "      <td>15.21582</td>\n",
       "      <td>V µg/m³</td>\n",
       "    </tr>\n",
       "  </tbody>\n",
       "</table>\n",
       "<p>8784 rows × 4 columns</p>\n",
       "</div>"
      ],
      "text/plain": [
       "           Date      Time Nitrogen dioxide   Status\n",
       "0    2020-01-01      1:00         41.07113  V µg/m³\n",
       "1    2020-01-01      2:00          38.9604  V µg/m³\n",
       "2    2020-01-01      3:00         35.12313  V µg/m³\n",
       "3    2020-01-01      4:00         35.85312  V µg/m³\n",
       "4    2020-01-01      5:00         32.10503  V µg/m³\n",
       "...         ...       ...              ...      ...\n",
       "8779 2020-12-31     20:00          24.4694  V µg/m³\n",
       "8780 2020-12-31     21:00         22.62313  V µg/m³\n",
       "8781 2020-12-31     22:00          20.3186  V µg/m³\n",
       "8782 2020-12-31     23:00         21.47177  V µg/m³\n",
       "8783 2020-12-31  24:00:00         15.21582  V µg/m³\n",
       "\n",
       "[8784 rows x 4 columns]"
      ]
     },
     "execution_count": 5,
     "metadata": {},
     "output_type": "execute_result"
    }
   ],
   "source": [
    "air_df1['Date'] = pd.to_datetime(air_df1['Date'], dayfirst=True)\n",
    "air_df1"
   ]
  },
  {
   "cell_type": "code",
   "execution_count": 6,
   "metadata": {
    "tags": []
   },
   "outputs": [
    {
     "name": "stdout",
     "output_type": "stream",
     "text": [
      "<class 'pandas.core.frame.DataFrame'>\n",
      "Int64Index: 8632 entries, 0 to 8783\n",
      "Data columns (total 4 columns):\n",
      " #   Column            Non-Null Count  Dtype         \n",
      "---  ------            --------------  -----         \n",
      " 0   Date              8632 non-null   datetime64[ns]\n",
      " 1   Time              8632 non-null   object        \n",
      " 2   Nitrogen dioxide  8632 non-null   float64       \n",
      " 3   Status            8632 non-null   object        \n",
      "dtypes: datetime64[ns](1), float64(1), object(2)\n",
      "memory usage: 337.2+ KB\n"
     ]
    }
   ],
   "source": [
    "import numpy as np\n",
    "#Values in 'Nitrogen dioxide' currently in string format and unable to \n",
    "#convert to float due to 'nodata', this needs changed to NaN to convert\n",
    "#to a float using .astype\n",
    "air_df1['Nitrogen dioxide'] = air_df1['Nitrogen dioxide'].replace('nodata', np.nan)\n",
    "#Can now convert to float \n",
    "air_df1['Nitrogen dioxide'] = air_df1['Nitrogen dioxide'].astype(float)\n",
    "#Dropping missing values from Nitrogen as the rows contain no other \n",
    "#useful data if this is missing. Chosen to alter the table rather than\n",
    "#make another copy\n",
    "air_df1.dropna(subset = ['Nitrogen dioxide'], inplace=True)\n",
    "#Can now see that the rows have been removed\n",
    "air_df1.info()"
   ]
  },
  {
   "cell_type": "code",
   "execution_count": 7,
   "metadata": {
    "tags": []
   },
   "outputs": [
    {
     "data": {
      "text/html": [
       "<div>\n",
       "<style scoped>\n",
       "    .dataframe tbody tr th:only-of-type {\n",
       "        vertical-align: middle;\n",
       "    }\n",
       "\n",
       "    .dataframe tbody tr th {\n",
       "        vertical-align: top;\n",
       "    }\n",
       "\n",
       "    .dataframe thead th {\n",
       "        text-align: right;\n",
       "    }\n",
       "</style>\n",
       "<table border=\"1\" class=\"dataframe\">\n",
       "  <thead>\n",
       "    <tr style=\"text-align: right;\">\n",
       "      <th></th>\n",
       "      <th>Date</th>\n",
       "      <th>Time</th>\n",
       "      <th>NO2 Level (V ug/m2)</th>\n",
       "      <th>Status</th>\n",
       "    </tr>\n",
       "  </thead>\n",
       "  <tbody>\n",
       "    <tr>\n",
       "      <th>0</th>\n",
       "      <td>2020-01-01</td>\n",
       "      <td>1:00</td>\n",
       "      <td>41.07113</td>\n",
       "      <td>V µg/m³</td>\n",
       "    </tr>\n",
       "    <tr>\n",
       "      <th>1</th>\n",
       "      <td>2020-01-01</td>\n",
       "      <td>2:00</td>\n",
       "      <td>38.96040</td>\n",
       "      <td>V µg/m³</td>\n",
       "    </tr>\n",
       "    <tr>\n",
       "      <th>2</th>\n",
       "      <td>2020-01-01</td>\n",
       "      <td>3:00</td>\n",
       "      <td>35.12313</td>\n",
       "      <td>V µg/m³</td>\n",
       "    </tr>\n",
       "    <tr>\n",
       "      <th>3</th>\n",
       "      <td>2020-01-01</td>\n",
       "      <td>4:00</td>\n",
       "      <td>35.85312</td>\n",
       "      <td>V µg/m³</td>\n",
       "    </tr>\n",
       "    <tr>\n",
       "      <th>4</th>\n",
       "      <td>2020-01-01</td>\n",
       "      <td>5:00</td>\n",
       "      <td>32.10503</td>\n",
       "      <td>V µg/m³</td>\n",
       "    </tr>\n",
       "  </tbody>\n",
       "</table>\n",
       "</div>"
      ],
      "text/plain": [
       "        Date  Time  NO2 Level (V ug/m2)   Status\n",
       "0 2020-01-01  1:00             41.07113  V µg/m³\n",
       "1 2020-01-01  2:00             38.96040  V µg/m³\n",
       "2 2020-01-01  3:00             35.12313  V µg/m³\n",
       "3 2020-01-01  4:00             35.85312  V µg/m³\n",
       "4 2020-01-01  5:00             32.10503  V µg/m³"
      ]
     },
     "execution_count": 7,
     "metadata": {},
     "output_type": "execute_result"
    }
   ],
   "source": [
    "#Rename the column Nitrogen dioxide level to NO2 Level (V ug/m2)\n",
    "air_df1 = air_df1.rename(columns = {'Nitrogen dioxide':'NO2 Level (V ug/m2)'})\n",
    "air_df1.head()"
   ]
  },
  {
   "cell_type": "code",
   "execution_count": 8,
   "metadata": {
    "tags": []
   },
   "outputs": [],
   "source": [
    "air_df1.sort_values(by='NO2 Level (V ug/m2)', inplace=True)"
   ]
  },
  {
   "cell_type": "code",
   "execution_count": 9,
   "metadata": {
    "tags": []
   },
   "outputs": [],
   "source": [
    "#Create a new column for 'Weekdays' (use df['Date'].dt.weekday)\n",
    "air_df1['Weekdays'] = air_df1['Date'].dt.weekday\n"
   ]
  },
  {
   "cell_type": "code",
   "execution_count": 10,
   "metadata": {
    "tags": []
   },
   "outputs": [],
   "source": [
    "#Removing the column \"Status\" and all the values within it\n",
    "air_df1 = air_df1.drop('Status', axis=1)"
   ]
  },
  {
   "cell_type": "code",
   "execution_count": 11,
   "metadata": {
    "tags": []
   },
   "outputs": [
    {
     "data": {
      "text/html": [
       "<div>\n",
       "<style scoped>\n",
       "    .dataframe tbody tr th:only-of-type {\n",
       "        vertical-align: middle;\n",
       "    }\n",
       "\n",
       "    .dataframe tbody tr th {\n",
       "        vertical-align: top;\n",
       "    }\n",
       "\n",
       "    .dataframe thead th {\n",
       "        text-align: right;\n",
       "    }\n",
       "</style>\n",
       "<table border=\"1\" class=\"dataframe\">\n",
       "  <thead>\n",
       "    <tr style=\"text-align: right;\">\n",
       "      <th></th>\n",
       "      <th>Date</th>\n",
       "      <th>Time</th>\n",
       "      <th>NO2 Level (V ug/m2)</th>\n",
       "      <th>Weekdays</th>\n",
       "    </tr>\n",
       "  </thead>\n",
       "  <tbody>\n",
       "    <tr>\n",
       "      <th>8668</th>\n",
       "      <td>2020-12-27</td>\n",
       "      <td>5:00</td>\n",
       "      <td>0.42410</td>\n",
       "      <td>6</td>\n",
       "    </tr>\n",
       "    <tr>\n",
       "      <th>5712</th>\n",
       "      <td>2020-08-26</td>\n",
       "      <td>1:00</td>\n",
       "      <td>0.58689</td>\n",
       "      <td>2</td>\n",
       "    </tr>\n",
       "    <tr>\n",
       "      <th>4489</th>\n",
       "      <td>2020-07-06</td>\n",
       "      <td>2:00</td>\n",
       "      <td>0.58930</td>\n",
       "      <td>0</td>\n",
       "    </tr>\n",
       "    <tr>\n",
       "      <th>5714</th>\n",
       "      <td>2020-08-26</td>\n",
       "      <td>3:00</td>\n",
       "      <td>0.59123</td>\n",
       "      <td>2</td>\n",
       "    </tr>\n",
       "    <tr>\n",
       "      <th>8669</th>\n",
       "      <td>2020-12-27</td>\n",
       "      <td>6:00</td>\n",
       "      <td>0.65300</td>\n",
       "      <td>6</td>\n",
       "    </tr>\n",
       "  </tbody>\n",
       "</table>\n",
       "</div>"
      ],
      "text/plain": [
       "           Date  Time  NO2 Level (V ug/m2)  Weekdays\n",
       "8668 2020-12-27  5:00              0.42410         6\n",
       "5712 2020-08-26  1:00              0.58689         2\n",
       "4489 2020-07-06  2:00              0.58930         0\n",
       "5714 2020-08-26  3:00              0.59123         2\n",
       "8669 2020-12-27  6:00              0.65300         6"
      ]
     },
     "execution_count": 11,
     "metadata": {},
     "output_type": "execute_result"
    }
   ],
   "source": [
    "air_df1.head()"
   ]
  },
  {
   "cell_type": "markdown",
   "metadata": {
    "id": "jnzAnbsmHk4B"
   },
   "source": [
    "### Expand the dataset and show summary statistics for larger dataset\n",
    "---\n",
    "\n",
    "There is a second data set here covering the year 2021:  https://drive.google.com/uc?id=1aYmBf9il2dWA-EROvbYRCZ1rU2t7JwvJ  \n",
    "\n",
    "Concatenate the two datasets to expand it to 2020 and 2021.  \n",
    "\n",
    "Before you can concatenate the datasets you will need to clean and wrangle the second dataset in the same way as the first.  Use the code cell below.  Give the second dataset a different name. \n",
    "\n",
    "After the datasets have been concatenated, group the data by Weekdays and show summary statistics by day of the week."
   ]
  },
  {
   "cell_type": "code",
   "execution_count": 12,
   "metadata": {
    "id": "Gz4u6trsIQJ6",
    "tags": []
   },
   "outputs": [
    {
     "name": "stdout",
     "output_type": "stream",
     "text": [
      "<class 'pandas.core.frame.DataFrame'>\n",
      "RangeIndex: 8760 entries, 0 to 8759\n",
      "Data columns (total 4 columns):\n",
      " #   Column            Non-Null Count  Dtype         \n",
      "---  ------            --------------  -----         \n",
      " 0   Date              8760 non-null   datetime64[ns]\n",
      " 1   Time              8760 non-null   object        \n",
      " 2   Nitrogen dioxide  8760 non-null   object        \n",
      " 3   Status            8760 non-null   object        \n",
      "dtypes: datetime64[ns](1), object(3)\n",
      "memory usage: 273.9+ KB\n"
     ]
    },
    {
     "data": {
      "text/plain": [
       "'nodata'"
      ]
     },
     "execution_count": 12,
     "metadata": {},
     "output_type": "execute_result"
    }
   ],
   "source": [
    "air_df2 = pd.read_csv('NO2-measured-data-2021-2022-Chatham-Roadside.csv', skiprows=1)\n",
    "\n",
    "\n",
    "air_df2['Date'] = pd.to_datetime(air_df2['Date'], dayfirst=True)\n",
    "air_df2.info()\n",
    "air_df2['Nitrogen dioxide'].min()\n",
    "air_df2['Nitrogen dioxide'].max()"
   ]
  },
  {
   "cell_type": "code",
   "execution_count": 13,
   "metadata": {
    "tags": []
   },
   "outputs": [],
   "source": [
    "air_df2['Nitrogen dioxide'] = air_df2['Nitrogen dioxide'].replace('nodata', np.nan)\n",
    "#Can now convert to float \n",
    "air_df2['Nitrogen dioxide'] = air_df2['Nitrogen dioxide'].astype(float)\n",
    "air_df2.dropna(subset='Nitrogen dioxide', inplace=True)\n",
    "air_df2 = air_df2.rename(columns = {'Nitrogen dioxide':'NO2 Level (V ug/m2)'})"
   ]
  },
  {
   "cell_type": "code",
   "execution_count": 14,
   "metadata": {
    "tags": []
   },
   "outputs": [],
   "source": [
    "air_df2['Weekdays'] = air_df2['Date'].dt.weekday\n"
   ]
  },
  {
   "cell_type": "code",
   "execution_count": 15,
   "metadata": {
    "tags": []
   },
   "outputs": [],
   "source": [
    "air_df2 = air_df2.drop('Status', axis=1)"
   ]
  },
  {
   "cell_type": "code",
   "execution_count": 16,
   "metadata": {
    "tags": []
   },
   "outputs": [
    {
     "name": "stdout",
     "output_type": "stream",
     "text": [
      "<class 'pandas.core.frame.DataFrame'>\n",
      "Int64Index: 8680 entries, 7177 to 7983\n",
      "Data columns (total 4 columns):\n",
      " #   Column               Non-Null Count  Dtype         \n",
      "---  ------               --------------  -----         \n",
      " 0   Date                 8680 non-null   datetime64[ns]\n",
      " 1   Time                 8680 non-null   object        \n",
      " 2   NO2 Level (V ug/m2)  8680 non-null   float64       \n",
      " 3   Weekdays             8680 non-null   int64         \n",
      "dtypes: datetime64[ns](1), float64(1), int64(1), object(1)\n",
      "memory usage: 339.1+ KB\n"
     ]
    }
   ],
   "source": [
    "air_df2.sort_values(by='NO2 Level (V ug/m2)', inplace=True)\n",
    "\n",
    "air_df2.info()"
   ]
  },
  {
   "cell_type": "code",
   "execution_count": 25,
   "metadata": {
    "tags": []
   },
   "outputs": [
    {
     "name": "stdout",
     "output_type": "stream",
     "text": [
      "<class 'pandas.core.frame.DataFrame'>\n",
      "Int64Index: 17312 entries, 8668 to 7983\n",
      "Data columns (total 4 columns):\n",
      " #   Column               Non-Null Count  Dtype         \n",
      "---  ------               --------------  -----         \n",
      " 0   Date                 17312 non-null  datetime64[ns]\n",
      " 1   Time                 17312 non-null  object        \n",
      " 2   NO2 Level (V ug/m2)  17312 non-null  float64       \n",
      " 3   Weekdays             17312 non-null  int64         \n",
      "dtypes: datetime64[ns](1), float64(1), int64(1), object(1)\n",
      "memory usage: 676.2+ KB\n"
     ]
    }
   ],
   "source": [
    "data = [air_df1, air_df2]\n",
    "comb_df = pd.concat(data, join='inner')\n",
    "comb_df.info()"
   ]
  },
  {
   "cell_type": "code",
   "execution_count": 18,
   "metadata": {
    "tags": []
   },
   "outputs": [
    {
     "data": {
      "text/html": [
       "<div>\n",
       "<style scoped>\n",
       "    .dataframe tbody tr th:only-of-type {\n",
       "        vertical-align: middle;\n",
       "    }\n",
       "\n",
       "    .dataframe tbody tr th {\n",
       "        vertical-align: top;\n",
       "    }\n",
       "\n",
       "    .dataframe thead tr th {\n",
       "        text-align: left;\n",
       "    }\n",
       "\n",
       "    .dataframe thead tr:last-of-type th {\n",
       "        text-align: right;\n",
       "    }\n",
       "</style>\n",
       "<table border=\"1\" class=\"dataframe\">\n",
       "  <thead>\n",
       "    <tr>\n",
       "      <th></th>\n",
       "      <th colspan=\"8\" halign=\"left\">NO2 Level (V ug/m2)</th>\n",
       "    </tr>\n",
       "    <tr>\n",
       "      <th></th>\n",
       "      <th>count</th>\n",
       "      <th>mean</th>\n",
       "      <th>std</th>\n",
       "      <th>min</th>\n",
       "      <th>25%</th>\n",
       "      <th>50%</th>\n",
       "      <th>75%</th>\n",
       "      <th>max</th>\n",
       "    </tr>\n",
       "    <tr>\n",
       "      <th>Weekdays</th>\n",
       "      <th></th>\n",
       "      <th></th>\n",
       "      <th></th>\n",
       "      <th></th>\n",
       "      <th></th>\n",
       "      <th></th>\n",
       "      <th></th>\n",
       "      <th></th>\n",
       "    </tr>\n",
       "  </thead>\n",
       "  <tbody>\n",
       "    <tr>\n",
       "      <th>0</th>\n",
       "      <td>2452.0</td>\n",
       "      <td>19.019897</td>\n",
       "      <td>13.566948</td>\n",
       "      <td>0.58930</td>\n",
       "      <td>8.944637</td>\n",
       "      <td>15.91839</td>\n",
       "      <td>26.016740</td>\n",
       "      <td>113.06189</td>\n",
       "    </tr>\n",
       "    <tr>\n",
       "      <th>1</th>\n",
       "      <td>2434.0</td>\n",
       "      <td>19.862832</td>\n",
       "      <td>13.623132</td>\n",
       "      <td>-0.10519</td>\n",
       "      <td>9.677307</td>\n",
       "      <td>16.66992</td>\n",
       "      <td>27.045835</td>\n",
       "      <td>92.13063</td>\n",
       "    </tr>\n",
       "    <tr>\n",
       "      <th>2</th>\n",
       "      <td>2485.0</td>\n",
       "      <td>21.569402</td>\n",
       "      <td>13.843067</td>\n",
       "      <td>-0.77743</td>\n",
       "      <td>10.894910</td>\n",
       "      <td>18.47115</td>\n",
       "      <td>30.186290</td>\n",
       "      <td>84.55297</td>\n",
       "    </tr>\n",
       "    <tr>\n",
       "      <th>3</th>\n",
       "      <td>2483.0</td>\n",
       "      <td>19.822405</td>\n",
       "      <td>12.873919</td>\n",
       "      <td>-0.13101</td>\n",
       "      <td>10.190015</td>\n",
       "      <td>16.82392</td>\n",
       "      <td>26.306000</td>\n",
       "      <td>72.00084</td>\n",
       "    </tr>\n",
       "    <tr>\n",
       "      <th>4</th>\n",
       "      <td>2500.0</td>\n",
       "      <td>20.776520</td>\n",
       "      <td>13.236096</td>\n",
       "      <td>0.03299</td>\n",
       "      <td>10.690697</td>\n",
       "      <td>18.00050</td>\n",
       "      <td>28.146380</td>\n",
       "      <td>76.72297</td>\n",
       "    </tr>\n",
       "    <tr>\n",
       "      <th>5</th>\n",
       "      <td>2494.0</td>\n",
       "      <td>15.905960</td>\n",
       "      <td>10.595521</td>\n",
       "      <td>0.75690</td>\n",
       "      <td>8.021902</td>\n",
       "      <td>13.60438</td>\n",
       "      <td>20.842495</td>\n",
       "      <td>74.93681</td>\n",
       "    </tr>\n",
       "    <tr>\n",
       "      <th>6</th>\n",
       "      <td>2464.0</td>\n",
       "      <td>13.160879</td>\n",
       "      <td>8.851133</td>\n",
       "      <td>-0.41740</td>\n",
       "      <td>6.782293</td>\n",
       "      <td>11.11951</td>\n",
       "      <td>16.998405</td>\n",
       "      <td>58.31275</td>\n",
       "    </tr>\n",
       "  </tbody>\n",
       "</table>\n",
       "</div>"
      ],
      "text/plain": [
       "         NO2 Level (V ug/m2)                                            \\\n",
       "                       count       mean        std      min        25%   \n",
       "Weekdays                                                                 \n",
       "0                     2452.0  19.019897  13.566948  0.58930   8.944637   \n",
       "1                     2434.0  19.862832  13.623132 -0.10519   9.677307   \n",
       "2                     2485.0  21.569402  13.843067 -0.77743  10.894910   \n",
       "3                     2483.0  19.822405  12.873919 -0.13101  10.190015   \n",
       "4                     2500.0  20.776520  13.236096  0.03299  10.690697   \n",
       "5                     2494.0  15.905960  10.595521  0.75690   8.021902   \n",
       "6                     2464.0  13.160879   8.851133 -0.41740   6.782293   \n",
       "\n",
       "                                          \n",
       "               50%        75%        max  \n",
       "Weekdays                                  \n",
       "0         15.91839  26.016740  113.06189  \n",
       "1         16.66992  27.045835   92.13063  \n",
       "2         18.47115  30.186290   84.55297  \n",
       "3         16.82392  26.306000   72.00084  \n",
       "4         18.00050  28.146380   76.72297  \n",
       "5         13.60438  20.842495   74.93681  \n",
       "6         11.11951  16.998405   58.31275  "
      ]
     },
     "execution_count": 18,
     "metadata": {},
     "output_type": "execute_result"
    }
   ],
   "source": [
    "comb_df.groupby('Weekdays')[['NO2 Level (V ug/m2)']].describe()\n",
    "#NO2 levels are higher Mon-Fri (0-4), which suggests people are \n",
    "#possibly commuting to/from work in this area "
   ]
  },
  {
   "cell_type": "code",
   "execution_count": 19,
   "metadata": {
    "tags": []
   },
   "outputs": [
    {
     "data": {
      "text/plain": [
       "34"
      ]
     },
     "execution_count": 19,
     "metadata": {},
     "output_type": "execute_result"
    }
   ],
   "source": [
    "comb_df.groupby('Time')[['NO2 Level (V ug/m2)']].describe()\n",
    "comb_df['Time'].nunique() #original answer was 34\n",
    "#I wanted to see if 07:00-09:00 was particularly busy but can see there\n",
    "#is duplicate times, have fixed this in code below and ran the concat function again to merge dup's"
   ]
  },
  {
   "cell_type": "code",
   "execution_count": 22,
   "metadata": {
    "tags": []
   },
   "outputs": [
    {
     "data": {
      "text/plain": [
       "24"
      ]
     },
     "execution_count": 22,
     "metadata": {},
     "output_type": "execute_result"
    }
   ],
   "source": [
    "air_df1['Time'].unique()\n",
    "\n",
    "air_df1['Time'] = air_df1['Time'].replace('24:00:00', '00:00')\n",
    "air_df1['Time'] = air_df1['Time'].replace('1:00', '01:00')\n",
    "air_df1['Time'] = air_df1['Time'].replace('2:00', '02:00')\n",
    "air_df1['Time'] = air_df1['Time'].replace('3:00', '03:00')\n",
    "air_df1['Time'] = air_df1['Time'].replace('4:00', '04:00')\n",
    "air_df1['Time'] = air_df1['Time'].replace('5:00', '05:00')\n",
    "air_df1['Time'] = air_df1['Time'].replace('6:00', '06:00')\n",
    "air_df1['Time'] = air_df1['Time'].replace('7:00', '07:00')\n",
    "air_df1['Time'] = air_df1['Time'].replace('8:00', '08:00')\n",
    "air_df1['Time'] = air_df1['Time'].replace('9:00', '09:00')\n",
    "pd.to_datetime(air_df1['Time'], format='%H:%M').dt.hour\n",
    "air_df1['Time']\n",
    "air_df1['Time'].unique() #formatted to match air_df2\n",
    "air_df1['Time'].nunique() #should show 24, which it does"
   ]
  },
  {
   "cell_type": "code",
   "execution_count": 23,
   "metadata": {
    "tags": []
   },
   "outputs": [
    {
     "data": {
      "text/plain": [
       "array(['02:00', '04:00', '03:00', '00:00', '05:00', '01:00', '06:00',\n",
       "       '23:00', '07:00', '09:00', '10:00', '08:00', '22:00', '13:00',\n",
       "       '17:00', '15:00', '21:00', '16:00', '11:00', '19:00', '18:00',\n",
       "       '20:00', '14:00', '12:00'], dtype=object)"
      ]
     },
     "execution_count": 23,
     "metadata": {},
     "output_type": "execute_result"
    }
   ],
   "source": [
    "air_df2['Time'].unique()\n",
    "air_df2['Time'] = air_df2['Time'].replace('24:00', '00:00')\n",
    "pd.to_datetime(air_df2['Time'], format='%H:%M').dt.hour\n",
    "air_df2['Time'].unique()"
   ]
  },
  {
   "cell_type": "code",
   "execution_count": 26,
   "metadata": {
    "tags": []
   },
   "outputs": [
    {
     "data": {
      "text/plain": [
       "24"
      ]
     },
     "execution_count": 26,
     "metadata": {},
     "output_type": "execute_result"
    }
   ],
   "source": [
    "comb_df['Time'].nunique() #Duplicated times formatted and tables successfully merged"
   ]
  },
  {
   "cell_type": "code",
   "execution_count": 27,
   "metadata": {
    "tags": []
   },
   "outputs": [
    {
     "data": {
      "text/html": [
       "<div>\n",
       "<style scoped>\n",
       "    .dataframe tbody tr th:only-of-type {\n",
       "        vertical-align: middle;\n",
       "    }\n",
       "\n",
       "    .dataframe tbody tr th {\n",
       "        vertical-align: top;\n",
       "    }\n",
       "\n",
       "    .dataframe thead tr th {\n",
       "        text-align: left;\n",
       "    }\n",
       "\n",
       "    .dataframe thead tr:last-of-type th {\n",
       "        text-align: right;\n",
       "    }\n",
       "</style>\n",
       "<table border=\"1\" class=\"dataframe\">\n",
       "  <thead>\n",
       "    <tr>\n",
       "      <th></th>\n",
       "      <th colspan=\"8\" halign=\"left\">NO2 Level (V ug/m2)</th>\n",
       "    </tr>\n",
       "    <tr>\n",
       "      <th></th>\n",
       "      <th>count</th>\n",
       "      <th>mean</th>\n",
       "      <th>std</th>\n",
       "      <th>min</th>\n",
       "      <th>25%</th>\n",
       "      <th>50%</th>\n",
       "      <th>75%</th>\n",
       "      <th>max</th>\n",
       "    </tr>\n",
       "    <tr>\n",
       "      <th>Time</th>\n",
       "      <th></th>\n",
       "      <th></th>\n",
       "      <th></th>\n",
       "      <th></th>\n",
       "      <th></th>\n",
       "      <th></th>\n",
       "      <th></th>\n",
       "      <th></th>\n",
       "    </tr>\n",
       "  </thead>\n",
       "  <tbody>\n",
       "    <tr>\n",
       "      <th>00:00</th>\n",
       "      <td>725.0</td>\n",
       "      <td>12.664046</td>\n",
       "      <td>10.037105</td>\n",
       "      <td>-0.10519</td>\n",
       "      <td>6.065970</td>\n",
       "      <td>9.462020</td>\n",
       "      <td>15.426080</td>\n",
       "      <td>64.73274</td>\n",
       "    </tr>\n",
       "    <tr>\n",
       "      <th>01:00</th>\n",
       "      <td>721.0</td>\n",
       "      <td>11.294774</td>\n",
       "      <td>9.330487</td>\n",
       "      <td>0.08798</td>\n",
       "      <td>5.278500</td>\n",
       "      <td>8.402900</td>\n",
       "      <td>13.744500</td>\n",
       "      <td>61.17953</td>\n",
       "    </tr>\n",
       "    <tr>\n",
       "      <th>02:00</th>\n",
       "      <td>719.0</td>\n",
       "      <td>9.925523</td>\n",
       "      <td>8.521998</td>\n",
       "      <td>-0.77743</td>\n",
       "      <td>4.443320</td>\n",
       "      <td>7.212990</td>\n",
       "      <td>12.359600</td>\n",
       "      <td>60.34039</td>\n",
       "    </tr>\n",
       "    <tr>\n",
       "      <th>03:00</th>\n",
       "      <td>718.0</td>\n",
       "      <td>9.435420</td>\n",
       "      <td>8.014477</td>\n",
       "      <td>-0.31174</td>\n",
       "      <td>4.145580</td>\n",
       "      <td>7.033675</td>\n",
       "      <td>11.727495</td>\n",
       "      <td>62.11923</td>\n",
       "    </tr>\n",
       "    <tr>\n",
       "      <th>04:00</th>\n",
       "      <td>722.0</td>\n",
       "      <td>9.441104</td>\n",
       "      <td>7.970945</td>\n",
       "      <td>-0.41740</td>\n",
       "      <td>4.338633</td>\n",
       "      <td>7.028890</td>\n",
       "      <td>12.184815</td>\n",
       "      <td>61.36253</td>\n",
       "    </tr>\n",
       "    <tr>\n",
       "      <th>05:00</th>\n",
       "      <td>722.0</td>\n",
       "      <td>11.250537</td>\n",
       "      <td>8.177716</td>\n",
       "      <td>0.05020</td>\n",
       "      <td>5.422325</td>\n",
       "      <td>9.094040</td>\n",
       "      <td>14.179920</td>\n",
       "      <td>57.40897</td>\n",
       "    </tr>\n",
       "    <tr>\n",
       "      <th>06:00</th>\n",
       "      <td>724.0</td>\n",
       "      <td>15.470032</td>\n",
       "      <td>9.691751</td>\n",
       "      <td>0.65300</td>\n",
       "      <td>7.971795</td>\n",
       "      <td>13.457115</td>\n",
       "      <td>20.202983</td>\n",
       "      <td>72.66929</td>\n",
       "    </tr>\n",
       "    <tr>\n",
       "      <th>07:00</th>\n",
       "      <td>723.0</td>\n",
       "      <td>21.008872</td>\n",
       "      <td>12.101983</td>\n",
       "      <td>0.78148</td>\n",
       "      <td>11.429410</td>\n",
       "      <td>19.034270</td>\n",
       "      <td>28.963910</td>\n",
       "      <td>71.49768</td>\n",
       "    </tr>\n",
       "    <tr>\n",
       "      <th>08:00</th>\n",
       "      <td>722.0</td>\n",
       "      <td>24.391491</td>\n",
       "      <td>14.057130</td>\n",
       "      <td>1.72125</td>\n",
       "      <td>12.986137</td>\n",
       "      <td>22.213645</td>\n",
       "      <td>34.299543</td>\n",
       "      <td>67.05851</td>\n",
       "    </tr>\n",
       "    <tr>\n",
       "      <th>09:00</th>\n",
       "      <td>711.0</td>\n",
       "      <td>23.582872</td>\n",
       "      <td>13.954909</td>\n",
       "      <td>1.33875</td>\n",
       "      <td>12.674050</td>\n",
       "      <td>20.976840</td>\n",
       "      <td>30.547875</td>\n",
       "      <td>80.27844</td>\n",
       "    </tr>\n",
       "    <tr>\n",
       "      <th>10:00</th>\n",
       "      <td>709.0</td>\n",
       "      <td>21.246499</td>\n",
       "      <td>11.628885</td>\n",
       "      <td>1.53000</td>\n",
       "      <td>12.502820</td>\n",
       "      <td>18.983860</td>\n",
       "      <td>27.615870</td>\n",
       "      <td>70.98859</td>\n",
       "    </tr>\n",
       "    <tr>\n",
       "      <th>11:00</th>\n",
       "      <td>709.0</td>\n",
       "      <td>20.476293</td>\n",
       "      <td>10.876772</td>\n",
       "      <td>3.06000</td>\n",
       "      <td>12.608900</td>\n",
       "      <td>18.168750</td>\n",
       "      <td>26.158290</td>\n",
       "      <td>72.71344</td>\n",
       "    </tr>\n",
       "    <tr>\n",
       "      <th>12:00</th>\n",
       "      <td>719.0</td>\n",
       "      <td>20.141642</td>\n",
       "      <td>10.238479</td>\n",
       "      <td>3.45385</td>\n",
       "      <td>12.505065</td>\n",
       "      <td>18.164920</td>\n",
       "      <td>25.461920</td>\n",
       "      <td>70.56309</td>\n",
       "    </tr>\n",
       "    <tr>\n",
       "      <th>13:00</th>\n",
       "      <td>720.0</td>\n",
       "      <td>20.139014</td>\n",
       "      <td>10.256934</td>\n",
       "      <td>2.83767</td>\n",
       "      <td>12.867330</td>\n",
       "      <td>17.762100</td>\n",
       "      <td>25.271902</td>\n",
       "      <td>73.61957</td>\n",
       "    </tr>\n",
       "    <tr>\n",
       "      <th>14:00</th>\n",
       "      <td>719.0</td>\n",
       "      <td>21.451690</td>\n",
       "      <td>11.506096</td>\n",
       "      <td>3.50148</td>\n",
       "      <td>12.982670</td>\n",
       "      <td>19.077520</td>\n",
       "      <td>27.041730</td>\n",
       "      <td>72.05277</td>\n",
       "    </tr>\n",
       "    <tr>\n",
       "      <th>15:00</th>\n",
       "      <td>722.0</td>\n",
       "      <td>23.494848</td>\n",
       "      <td>13.519311</td>\n",
       "      <td>2.94716</td>\n",
       "      <td>13.560147</td>\n",
       "      <td>20.356395</td>\n",
       "      <td>31.058718</td>\n",
       "      <td>113.06189</td>\n",
       "    </tr>\n",
       "    <tr>\n",
       "      <th>16:00</th>\n",
       "      <td>725.0</td>\n",
       "      <td>24.189881</td>\n",
       "      <td>14.402212</td>\n",
       "      <td>3.01840</td>\n",
       "      <td>13.544540</td>\n",
       "      <td>20.781040</td>\n",
       "      <td>31.513180</td>\n",
       "      <td>84.86896</td>\n",
       "    </tr>\n",
       "    <tr>\n",
       "      <th>17:00</th>\n",
       "      <td>726.0</td>\n",
       "      <td>23.927444</td>\n",
       "      <td>13.771491</td>\n",
       "      <td>2.83911</td>\n",
       "      <td>13.811233</td>\n",
       "      <td>20.974625</td>\n",
       "      <td>31.131480</td>\n",
       "      <td>87.10202</td>\n",
       "    </tr>\n",
       "    <tr>\n",
       "      <th>18:00</th>\n",
       "      <td>726.0</td>\n",
       "      <td>24.501481</td>\n",
       "      <td>14.251048</td>\n",
       "      <td>3.54849</td>\n",
       "      <td>13.516402</td>\n",
       "      <td>21.203530</td>\n",
       "      <td>32.339932</td>\n",
       "      <td>92.13063</td>\n",
       "    </tr>\n",
       "    <tr>\n",
       "      <th>19:00</th>\n",
       "      <td>726.0</td>\n",
       "      <td>24.043589</td>\n",
       "      <td>14.423110</td>\n",
       "      <td>3.28723</td>\n",
       "      <td>13.055013</td>\n",
       "      <td>20.261920</td>\n",
       "      <td>31.666255</td>\n",
       "      <td>76.72297</td>\n",
       "    </tr>\n",
       "    <tr>\n",
       "      <th>20:00</th>\n",
       "      <td>726.0</td>\n",
       "      <td>22.222759</td>\n",
       "      <td>13.363951</td>\n",
       "      <td>3.55940</td>\n",
       "      <td>12.060550</td>\n",
       "      <td>18.884985</td>\n",
       "      <td>28.878325</td>\n",
       "      <td>74.93681</td>\n",
       "    </tr>\n",
       "    <tr>\n",
       "      <th>21:00</th>\n",
       "      <td>726.0</td>\n",
       "      <td>19.693327</td>\n",
       "      <td>12.464720</td>\n",
       "      <td>3.00055</td>\n",
       "      <td>10.708665</td>\n",
       "      <td>16.649255</td>\n",
       "      <td>24.664062</td>\n",
       "      <td>72.78984</td>\n",
       "    </tr>\n",
       "    <tr>\n",
       "      <th>22:00</th>\n",
       "      <td>726.0</td>\n",
       "      <td>17.283906</td>\n",
       "      <td>11.856083</td>\n",
       "      <td>2.11331</td>\n",
       "      <td>8.650892</td>\n",
       "      <td>14.154060</td>\n",
       "      <td>21.939555</td>\n",
       "      <td>68.39703</td>\n",
       "    </tr>\n",
       "    <tr>\n",
       "      <th>23:00</th>\n",
       "      <td>726.0</td>\n",
       "      <td>14.897435</td>\n",
       "      <td>10.978291</td>\n",
       "      <td>1.22356</td>\n",
       "      <td>7.144617</td>\n",
       "      <td>11.467690</td>\n",
       "      <td>18.578080</td>\n",
       "      <td>63.42975</td>\n",
       "    </tr>\n",
       "  </tbody>\n",
       "</table>\n",
       "</div>"
      ],
      "text/plain": [
       "      NO2 Level (V ug/m2)                                            \\\n",
       "                    count       mean        std      min        25%   \n",
       "Time                                                                  \n",
       "00:00               725.0  12.664046  10.037105 -0.10519   6.065970   \n",
       "01:00               721.0  11.294774   9.330487  0.08798   5.278500   \n",
       "02:00               719.0   9.925523   8.521998 -0.77743   4.443320   \n",
       "03:00               718.0   9.435420   8.014477 -0.31174   4.145580   \n",
       "04:00               722.0   9.441104   7.970945 -0.41740   4.338633   \n",
       "05:00               722.0  11.250537   8.177716  0.05020   5.422325   \n",
       "06:00               724.0  15.470032   9.691751  0.65300   7.971795   \n",
       "07:00               723.0  21.008872  12.101983  0.78148  11.429410   \n",
       "08:00               722.0  24.391491  14.057130  1.72125  12.986137   \n",
       "09:00               711.0  23.582872  13.954909  1.33875  12.674050   \n",
       "10:00               709.0  21.246499  11.628885  1.53000  12.502820   \n",
       "11:00               709.0  20.476293  10.876772  3.06000  12.608900   \n",
       "12:00               719.0  20.141642  10.238479  3.45385  12.505065   \n",
       "13:00               720.0  20.139014  10.256934  2.83767  12.867330   \n",
       "14:00               719.0  21.451690  11.506096  3.50148  12.982670   \n",
       "15:00               722.0  23.494848  13.519311  2.94716  13.560147   \n",
       "16:00               725.0  24.189881  14.402212  3.01840  13.544540   \n",
       "17:00               726.0  23.927444  13.771491  2.83911  13.811233   \n",
       "18:00               726.0  24.501481  14.251048  3.54849  13.516402   \n",
       "19:00               726.0  24.043589  14.423110  3.28723  13.055013   \n",
       "20:00               726.0  22.222759  13.363951  3.55940  12.060550   \n",
       "21:00               726.0  19.693327  12.464720  3.00055  10.708665   \n",
       "22:00               726.0  17.283906  11.856083  2.11331   8.650892   \n",
       "23:00               726.0  14.897435  10.978291  1.22356   7.144617   \n",
       "\n",
       "                                        \n",
       "             50%        75%        max  \n",
       "Time                                    \n",
       "00:00   9.462020  15.426080   64.73274  \n",
       "01:00   8.402900  13.744500   61.17953  \n",
       "02:00   7.212990  12.359600   60.34039  \n",
       "03:00   7.033675  11.727495   62.11923  \n",
       "04:00   7.028890  12.184815   61.36253  \n",
       "05:00   9.094040  14.179920   57.40897  \n",
       "06:00  13.457115  20.202983   72.66929  \n",
       "07:00  19.034270  28.963910   71.49768  \n",
       "08:00  22.213645  34.299543   67.05851  \n",
       "09:00  20.976840  30.547875   80.27844  \n",
       "10:00  18.983860  27.615870   70.98859  \n",
       "11:00  18.168750  26.158290   72.71344  \n",
       "12:00  18.164920  25.461920   70.56309  \n",
       "13:00  17.762100  25.271902   73.61957  \n",
       "14:00  19.077520  27.041730   72.05277  \n",
       "15:00  20.356395  31.058718  113.06189  \n",
       "16:00  20.781040  31.513180   84.86896  \n",
       "17:00  20.974625  31.131480   87.10202  \n",
       "18:00  21.203530  32.339932   92.13063  \n",
       "19:00  20.261920  31.666255   76.72297  \n",
       "20:00  18.884985  28.878325   74.93681  \n",
       "21:00  16.649255  24.664062   72.78984  \n",
       "22:00  14.154060  21.939555   68.39703  \n",
       "23:00  11.467690  18.578080   63.42975  "
      ]
     },
     "execution_count": 27,
     "metadata": {},
     "output_type": "execute_result"
    }
   ],
   "source": [
    "comb_df.groupby(['Time'])[['NO2 Level (V ug/m2)']].describe()\n",
    "#NO2 level rises between 07:00-10:00 & 15:00 - 19:00, peak commuting times"
   ]
  },
  {
   "cell_type": "code",
   "execution_count": 32,
   "metadata": {
    "tags": []
   },
   "outputs": [
    {
     "name": "stderr",
     "output_type": "stream",
     "text": [
      "/var/folders/mk/bg1pl0ld3zl9yc1r_dm1vmbc0000gn/T/ipykernel_16958/1112980901.py:3: FutureWarning: The default value of numeric_only in DataFrameGroupBy.mean is deprecated. In a future version, numeric_only will default to False. Either specify numeric_only or select only columns which should be valid for the function.\n",
      "  weekdays = comb_df.groupby(['Weekdays']).mean()\n"
     ]
    },
    {
     "data": {
      "image/png": "[encoded data removed]",
      "text/plain": [
       "<Figure size 640x480 with 1 Axes>"
      ]
     },
     "metadata": {},
     "output_type": "display_data"
    }
   ],
   "source": [
    "import matplotlib.pyplot as plt\n",
    "\n",
    "weekdays = comb_df.groupby(['Weekdays']).mean()\n",
    "visual_df = weekdays['NO2 Level (V ug/m2)']\n",
    "visual_df\n",
    "labels = visual_df.keys()\n",
    "labels\n",
    "\n",
    "plt.barh(labels, visual_df)\n",
    "plt.show()"
   ]
  },
  {
   "cell_type": "code",
   "execution_count": null,
   "metadata": {},
   "outputs": [],
   "source": [
    "#This bar graph shows that NO2 levels are highest Monday - Friday (0-4), \n",
    "#which suggests the road this data was obtained from is used by \n",
    "#commuters. In the code above I checked to see whether this also\n",
    "#reasonated with timings, which it did. Peak travel times were 0700 -\n",
    "#1000 and 1500 - 1900hrs"
   ]
  },
  {
   "cell_type": "code",
   "execution_count": null,
   "metadata": {},
   "outputs": [],
   "source": [
    "#Through completing this project I have learned how to filter data, merge\n",
    "#data sets and clean the data. I learned how to replace values within the time\n",
    "#column so that when the tables merged together there were no duplicate\n",
    "#times which made it easier to interpret the data. I used matplot to create\n",
    "#the bar chart which was new to me. I had very basic knowledge of Python and none\n",
    "#of pandas prior to this course and now feel more confident utilising these\n",
    "#programmes for data."
   ]
  },
  {
   "cell_type": "markdown",
   "metadata": {
    "id": "hkj-Ofus_D6_"
   },
   "source": [
    "### Helpful references\n",
    "---\n",
    "Skipping rows when reading datasets:  \n",
    "https://www.geeksforgeeks.org/how-to-skip-rows-while-reading-csv-file-using-pandas/  \n",
    "\n",
    "Converting strings to dates:  \n",
    "https://www.geeksforgeeks.org/convert-the-column-type-from-string-to-datetime-format-in-pandas-dataframe/\n",
    "\n",
    "Dropping rows where data has a given value:  \n",
    "https://www.datasciencemadesimple.com/drop-delete-rows-conditions-python-pandas/  \n",
    "(see section Drop a row or observation by condition) \n",
    "\n",
    "Convert a column of strings to a column of floats:\n",
    "https://datatofish.com/convert-string-to-float-dataframe/  \n",
    "\n",
    "Create a new column from data converted in an existing column:  \n",
    "https://www.geeksforgeeks.org/create-a-new-column-in-pandas-dataframe-based-on-the-existing-columns/  \n",
    "\n",
    "Rename a column:  \n",
    "https://pandas.pydata.org/docs/reference/api/pandas.DataFrame.rename.html  \n",
    "\n",
    "Remove a column by name:  \n",
    "https://www.kite.com/python/answers/how-to-delete-columns-from-a-pandas-%60dataframe%60-by-column-name-in-python#:~:text=Use%20the%20del%20keyword%20to,the%20name%20column_name%20from%20DataFrame%20.\n"
   ]
  }
 ],
 "metadata": {
  "colab": {
   "authorship_tag": "ABX9TyNb+jxAlm3WrVPiSLeRArty",
   "collapsed_sections": [],
   "include_colab_link": true,
   "name": "Air quality mini-project.ipynb",
   "provenance": []
  },
  "kernelspec": {
   "display_name": "Python 3 (ipykernel)",
   "language": "python",
   "name": "python3"
  },
  "language_info": {
   "codemirror_mode": {
    "name": "ipython",
    "version": 3
   },
   "file_extension": ".py",
   "mimetype": "text/x-python",
   "name": "python",
   "nbconvert_exporter": "python",
   "pygments_lexer": "ipython3",
   "version": "3.11.4"
  }
 },
 "nbformat": 4,
 "nbformat_minor": 4
}
