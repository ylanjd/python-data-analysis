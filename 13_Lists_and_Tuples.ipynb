{
 "cells": [
  {
   "cell_type": "markdown",
   "metadata": {
    "colab_type": "text",
    "id": "view-in-github"
   },
   "source": [
    "<a href=\"https://colab.research.google.com/github/futureCodersSE/python-fundamentals/blob/main/Lists_and_Tuples.ipynb\" target=\"_parent\"><img src=\"https://colab.research.google.com/assets/colab-badge.svg\" alt=\"Open In Colab\"/></a>"
   ]
  },
  {
   "cell_type": "markdown",
   "metadata": {
    "id": "Z-M-RCWATK71"
   },
   "source": [
    "# Lists and tuples\n",
    "\n",
    "Often we need to store a number of single items of data together so that they can be processed together. This might be because all the data refers to one person (e.g. name, age, gender, etc) OR it might be because we have a set of data (e.g. all the items that should be displayed in a drop down list, such as all the years from this year back to 100 years ago so that someone can select their year of birth)\n",
    "\n",
    "Python has a range of data structures available including:\n",
    "*   lists  \n",
    "*   tuples  \n",
    "*   dictionaries  \n",
    "*   sets\n",
    "\n",
    "This worksheet looks at lists and tuples.\n",
    "\n",
    "## List\n",
    "A list is a set of related, individual data objects, that are indexed and can be processed as a whole, as subsets or as individual items.  Lists are stored, essentially, as contiguous items in memory so that access can be as quick as possible.  However, they are mutable (they can be changed after they are created and stored) and so those mechanisms need to include extra functionality to deal with changing list sizes.\n",
    "\n",
    "## Tuple\n",
    "Essentially the same as a list but it is immutable.  Once it has been created it can't be changed.  It is stored in memory as contiguous items, with the size required being fixed right from the start.  This makes it faster to access.\n",
    "\n",
    "The code below will create two lists and a tuple.\n",
    "*   the first list contains 1000 random numbers between 1 and 100\n",
    "*   the second list is of random length (up to 5000) and each item is one of the 9 characteristics that are protected under the Equality Act in the UK.\n",
    "*   the tuple contains the 9 protected characteristics\n",
    "\n",
    "Before you start the exercises, run the code below.  It will generate the lists and tuple so that you can use them in the exercises.  If you need to recreate the lists again (because you have changed them and need to work on the originals, just run this cell again).\n",
    "\n",
    "***Note:***  *a list variable contains a reference to the start of the list in memory, rather than storing the list itself.  This means that if you assign the list to another variable (to make a copy), it will only copy across the reference.  If you change the copy, you change the original list.*\n",
    "\n",
    "*If you need to make a copy of the list you will need to use a loop to create a new list and copy all items across.*"
   ]
  },
  {
   "cell_type": "code",
   "execution_count": 2,
   "metadata": {
    "id": "BDRckXeQXFMT"
   },
   "outputs": [],
   "source": [
    "from random import randint, choice\n",
    "\n",
    "def get_num_list():\n",
    "  num_list = [randint(1,100) for n in range(1000)]\n",
    "  return num_list\n",
    "\n",
    "def get_protected_characteristics():\n",
    "  characteristics_tuple = ('age','disability','gender reassignment','marriage and civil partnership','pregnancy and maternity','race','religion or belief','sex','sexual orientation')\n",
    "  return characteristics_tuple\n",
    "\n",
    "def get_protected_characteristic_list(protected_characteristics):\n",
    "  char_list = [choice(protected_characteristics) for ch in range(randint(1,5000))]\n",
    "  return char_list\n",
    "\n",
    "nums = get_num_list()\n",
    "protected_characteristics = get_protected_characteristics()\n",
    "characteristics = get_protected_characteristic_list(protected_characteristics)"
   ]
  },
  {
   "cell_type": "markdown",
   "metadata": {
    "id": "xXT38-4ZV45n"
   },
   "source": [
    "## The exercises below will use the lists:  \n",
    "*   **nums** (a list of between 1 and 1000 random numbers, each number is between 0 and 1000)\n",
    "*   **characteristics** (a list of 5000 random protected_characteristics)\n",
    "\n",
    "and the tuple:\n",
    "*  **protected_characteristics** (a set of the 9 protected characteristics identified in the Equality Act)\n",
    "\n",
    "## You can run the cell above any number of times to generate new lists."
   ]
  },
  {
   "cell_type": "markdown",
   "metadata": {
    "id": "Ft0dXl7fUuaK"
   },
   "source": [
    "---\n",
    "### Exercise 1 - list head, tail and shape\n",
    "\n",
    "Write a function, **describe_list()** which will:\n",
    "*  print the length of the list `nums`\n",
    "*  print the first 10 items in `nums`  \n",
    "*  print the last 5 items in `nums`"
   ]
  },
  {
   "cell_type": "code",
   "execution_count": 5,
   "metadata": {
    "id": "jUcZD7mmTJdA"
   },
   "outputs": [
    {
     "name": "stdout",
     "output_type": "stream",
     "text": [
      "1000\n",
      "[5, 65, 65, 7, 42, 78, 56, 38, 80, 33]\n",
      "[98, 78, 72, 80, 84]\n"
     ]
    }
   ],
   "source": [
    "def describe_list():\n",
    "    print(len(nums))\n",
    "    print(nums[:10])\n",
    "    print(nums[-5:])\n",
    "describe_list()"
   ]
  },
  {
   "cell_type": "markdown",
   "metadata": {
    "id": "yNWg08k6bXv0"
   },
   "source": [
    "---\n",
    "### Exercise 2 - show tuple items\n",
    "\n",
    "Write a function which will:\n",
    "*   use a loop to print the list of protected characteristics from the `protected_characteristics` tuple.\n"
   ]
  },
  {
   "cell_type": "code",
   "execution_count": 6,
   "metadata": {
    "id": "P2HnCG9pb1BS"
   },
   "outputs": [
    {
     "name": "stdout",
     "output_type": "stream",
     "text": [
      "age\n",
      "disability\n",
      "gender reassignment\n",
      "marriage and civil partnership\n",
      "pregnancy and maternity\n",
      "race\n",
      "religion or belief\n",
      "sex\n",
      "sexual orientation\n"
     ]
    }
   ],
   "source": [
    "def tuple_list():\n",
    "    for char in list(protected_characteristics):\n",
    "        print(char)\n",
    "tuple_list()"
   ]
  },
  {
   "cell_type": "markdown",
   "metadata": {
    "id": "RTSuQZs4b1JU"
   },
   "source": [
    "---\n",
    "### Exercise 3 - list a random subset\n",
    "\n",
    "Write a function which will:\n",
    "*  calculate the position of the middle item in the `characteristics` list   \n",
    "(*Hint: use len() to help with this*)\n",
    "*  calculate the position of the item that is 5 places before the middle item\n",
    "*  calculate the position of the item that is 5 places after the middle item\n",
    "*  print the part of the list that includes the items from 5 places before to 5 places after.  \n",
    "\n",
    "Expected output:  \n",
    "Your list will include 11 items."
   ]
  },
  {
   "cell_type": "code",
   "execution_count": 12,
   "metadata": {
    "id": "OwhFnH2kdC11"
   },
   "outputs": [
    {
     "name": "stdout",
     "output_type": "stream",
     "text": [
      "1787\n",
      "894\n",
      "889\n",
      "899\n",
      "['race', 'gender reassignment', 'race', 'sexual orientation', 'race', 'gender reassignment', 'pregnancy and maternity', 'pregnancy and maternity', 'pregnancy and maternity', 'age']\n",
      "10\n"
     ]
    }
   ],
   "source": [
    "def randomSubset():\n",
    "    length = len(characteristics)\n",
    "    print(length)\n",
    "    \n",
    "    mid_list = (length // 2) + 1\n",
    "    print(mid_list)\n",
    "    \n",
    "    bef_mid_list = mid_list - 5\n",
    "    print(bef_mid_list)\n",
    "    \n",
    "    aft_mid_list = mid_list + 5\n",
    "    print(aft_mid_list)\n",
    "   \n",
    "    print(characteristics[bef_mid_list:aft_mid_list])\n",
    "    print(len(characteristics[bef_mid_list:aft_mid_list]))\n",
    "randomSubset()\n",
    "\n",
    "#Gone over this multiple times and still not sure how 11 items \n",
    "#should be printed??"
   ]
  },
  {
   "cell_type": "markdown",
   "metadata": {
    "id": "KS0x3oFNePI9"
   },
   "source": [
    "---\n",
    "### Exercise 4 - create a copy\n",
    "\n",
    "Write a function which will: use a for loop to create a copy of the `nums` list:\n",
    "\n",
    "*   create a new, empty, list called **new_nums**  (*Hint: an empty list is [ ]*)\n",
    "*   use a for loop which uses the following syntax:  `for num in nums:`\n",
    "*   each time round the loop append `num` to `new_nums`  ( *`new_nums.append(num)`*)\n",
    "*   print the first 10 items of `new_nums`\n",
    "*   print the first 10 items of `nums`\n",
    "*   print the length of both lists"
   ]
  },
  {
   "cell_type": "code",
   "execution_count": 15,
   "metadata": {
    "id": "mpK1Ip3we-uC"
   },
   "outputs": [
    {
     "name": "stdout",
     "output_type": "stream",
     "text": [
      "[52, 58, 29, 86, 82, 85, 29, 22, 62, 66]\n",
      "[52, 58, 29, 86, 82, 85, 29, 22, 62, 66]\n",
      "1000\n",
      "1000\n"
     ]
    }
   ],
   "source": [
    "def copy_nums():\n",
    "    new_nums = []\n",
    "    for num in nums:\n",
    "        new_nums.append(num)\n",
    "        \n",
    "    print(new_nums[:10])\n",
    "    print(nums[:10])\n",
    "\n",
    "    print(len(new_nums))\n",
    "    print(len(nums))\n",
    "copy_nums()"
   ]
  },
  {
   "cell_type": "markdown",
   "metadata": {
    "id": "deUIFWjRe-3G"
   },
   "source": [
    "\n",
    "\n",
    "```\n",
    "# This is formatted as code\n",
    "```\n",
    "\n",
    "---\n",
    "### Exercise 5 - count the occurrence of age in characteristics\n",
    "\n",
    "Write a function which will use the list method:\n",
    "\n",
    "`num_items = list_name.count(item)`\n",
    "\n",
    "to count the number of occurrences of 'age' in the `characteristics` list.  Print the result."
   ]
  },
  {
   "cell_type": "code",
   "execution_count": 23,
   "metadata": {
    "id": "b9TrHQ9hfoIU"
   },
   "outputs": [
    {
     "name": "stdout",
     "output_type": "stream",
     "text": [
      "475\n"
     ]
    }
   ],
   "source": [
    "def ageCount():\n",
    "    num_items = characteristics.count(\"age\")\n",
    "    print(num_items)\n",
    "ageCount()"
   ]
  },
  {
   "cell_type": "markdown",
   "metadata": {
    "id": "zm2VI5RmfoSy"
   },
   "source": [
    "---\n",
    "### Exercise 6 - sort the nums list\n",
    "\n",
    "Write a function which will:\n",
    "*   call the function `get_num_list()` and store the result in a new list called **sort_nums**\n",
    "*   print the first, and last, 20 items in the `sort_nums` list\n",
    "*   use the `list_name.sort()` method to sort the `sort_nums` list into ascending order\n",
    "*   print the first, and last, 20 items again  \n",
    "*   use the `list_name.sort()` method again to sort the `sort_nums` list into descending order\n",
    "*   print the first, and last, 20 items again"
   ]
  },
  {
   "cell_type": "code",
   "execution_count": 31,
   "metadata": {
    "id": "Fksgpj9JgWDs"
   },
   "outputs": [
    {
     "name": "stdout",
     "output_type": "stream",
     "text": [
      "[32, 100, 3, 81, 93, 88, 41, 31, 35, 65, 5, 26, 93, 92, 99, 73, 10, 51, 79, 59]\n",
      "[10, 14, 47, 80, 5, 18, 25, 83, 8, 62, 93, 91, 17, 53, 25, 7, 49, 49, 77, 83]\n",
      "[1, 1, 1, 1, 1, 1, 1, 1, 1, 1, 2, 2, 2, 2, 2, 2, 2, 2, 2, 2]\n",
      "[99, 99, 99, 99, 99, 99, 99, 99, 99, 99, 99, 100, 100, 100, 100, 100, 100, 100, 100, 100]\n",
      "[100, 100, 100, 100, 100, 100, 100, 100, 100, 99, 99, 99, 99, 99, 99, 99, 99, 99, 99, 99]\n",
      "[2, 2, 2, 2, 2, 2, 2, 2, 2, 2, 1, 1, 1, 1, 1, 1, 1, 1, 1, 1]\n"
     ]
    }
   ],
   "source": [
    "def sorted_nums():\n",
    "    sort_nums = get_num_list()\n",
    "    \n",
    "    print(sort_nums[:20]) \n",
    "    print(sort_nums[-20:])\n",
    "    \n",
    "    sort_nums.sort()\n",
    "    print(sort_nums[:20]) \n",
    "    print(sort_nums[-20:])\n",
    "    \n",
    "    sort_nums.sort(reverse=True)\n",
    "    print(sort_nums[:20]) \n",
    "    print(sort_nums[-20:])\n",
    "\n",
    "    \n",
    "sorted_nums()"
   ]
  },
  {
   "cell_type": "markdown",
   "metadata": {
    "id": "_OF-Xuj1UrW0"
   },
   "source": [
    "---\n",
    "### Exercise 7 - get statistics (max(), min(), sum() )\n",
    "\n",
    "Write a function which will:\n",
    "*   print the maximum and minimum numbers in the `nums` list  \n",
    "*   print the sum of the `nums` list\n",
    "*   calculate and print the average of the `nums` list (using `len()` to help)"
   ]
  },
  {
   "cell_type": "code",
   "execution_count": 46,
   "metadata": {
    "id": "9YmYMenZVGod"
   },
   "outputs": [
    {
     "name": "stdout",
     "output_type": "stream",
     "text": [
      "1 100\n",
      "51280\n",
      "51.28\n"
     ]
    }
   ],
   "source": [
    "def statisticsNums():\n",
    "    print(min(nums), max(nums))\n",
    "    print(sum(nums))\n",
    "    print((sum(nums))/(len(nums)))\n",
    "statisticsNums()   "
   ]
  },
  {
   "cell_type": "markdown",
   "metadata": {
    "id": "Mn4tHQ_KVbHa"
   },
   "source": [
    "---\n",
    "### Exercise 8 - percentage difference\n",
    "\n",
    "Write a function which will:\n",
    "*   generate a new list called **ex8_nums** using `get_num_list()`\n",
    "*   calculate and print the percentage difference between the first number in each list (as a percentage of the number in the nums list) (Hint:  find the difference between the two numbers, divide the difference by the number in `nums` and multiply by 100)\n",
    "*   calculate and print the percentage difference between the last numbers in each list in the same way\n",
    "*   calculate and print the percentage difference between the middle numbers in each list in the same way.\n",
    "*   calculate and print the percentage difference between the sums of each list in the same way"
   ]
  },
  {
   "cell_type": "code",
   "execution_count": 44,
   "metadata": {
    "id": "nJCQjZIeZL0e"
   },
   "outputs": [
    {
     "name": "stdout",
     "output_type": "stream",
     "text": [
      "-53.84615384615385\n",
      "43.859649122807014\n",
      "-36.95652173913043\n",
      "-2.776911076443058\n"
     ]
    }
   ],
   "source": [
    "def perDiff():\n",
    "    ex8_nums = get_num_list()\n",
    "    difference = (ex8_nums[0] - nums[0]) / nums[0] * 100\n",
    "    print(difference)\n",
    "    \n",
    "    difference2 = (ex8_nums[-1] - nums[-1]) / nums[-1] * 100\n",
    "    print(difference2)\n",
    "    \n",
    "    difference3 = (ex8_nums[501] - nums[501]) / nums[501] * 100\n",
    "    print(difference3)\n",
    "    \n",
    "    difference4 = (sum(ex8_nums) - sum(nums)) / sum(nums) * 100\n",
    "    print(difference4)\n",
    "    \n",
    "    \n",
    "perDiff()   "
   ]
  },
  {
   "cell_type": "markdown",
   "metadata": {
    "id": "HNs3lZmYawFO"
   },
   "source": [
    "---\n",
    "### Exercise 9 - characteristic counts\n",
    "\n",
    "Write a function which will:\n",
    "*  iterate through the `protected_characteristics` tuple and for each **characteristic**:\n",
    "*   *   count the number of occurrences of that `characteristic` in the `characteristics` list\n",
    "*   *   print the `protected_characteristic` and the **count**  \n",
    "\n",
    "Example expected output:\n",
    "\n",
    "age 100  \n",
    "disability 120  \n",
    "gender reassignment 120  \n",
    "marriage and civil partnership 111  \n",
    "pregnancy and maternity 103  \n",
    "race 106  \n",
    "religion or belief 95  \n",
    "sex 110  \n",
    "sexual orientation 113  \n",
    "\n",
    "Extra learning:  you can read [here](https://thispointer.com/python-how-to-pad-strings-with-zero-space-or-some-other-character/) how to justify the printed characteristic so that the output is organised into two columns as shown below:  \n",
    "![tabulated output](https://drive.google.com/uc?id=1CCXfX6K5ZeDefnq7vUsqxCDmqvcfY8Mz)\n",
    "\n",
    "\n",
    "\n"
   ]
  },
  {
   "cell_type": "code",
   "execution_count": 53,
   "metadata": {
    "id": "GURT11albqUs"
   },
   "outputs": [
    {
     "name": "stdout",
     "output_type": "stream",
     "text": [
      "age 212\n",
      "disability 196\n",
      "gender reassignment 186\n",
      "marriage and civil partnership 188\n",
      "pregnancy and maternity 211\n",
      "race 212\n",
      "religion or belief 205\n",
      "sex 195\n",
      "sexual orientation 182\n"
     ]
    }
   ],
   "source": [
    "def statChar():\n",
    "    for char in tuple(protected_characteristics):\n",
    "        print(char, (characteristics.count(char)))\n",
    "        \n",
    "statChar()"
   ]
  },
  {
   "cell_type": "markdown",
   "metadata": {
    "id": "9Po7yQj-ds38"
   },
   "source": [
    "---\n",
    "### Exercise 10 - characteristics statistics\n",
    "\n",
    "Assuming that the `characteristics` list may have been taken from a study of cases that have been taken to court in relation to the Equality Act.  \n",
    "\n",
    "Write a function which will:\n",
    "\n",
    "*   find the most common characteristic resulting in court action, from this population\n",
    "*   print this in a message, e.g. The characteristic with the highest number of court cases is:  *characteristic*\n",
    "*   print the list of `protected_characteristics`, on one line if possible - see [here](https://www.geeksforgeeks.org/g-fact-25-print-single-multiple-variable-python/)\n",
    "*   ask the user to enter a characteristic that they would like to see statistics on and use a while loop to continue until the user has entered a valid characteristic\n",
    "*   print the characteristic, its frequency and the percentage that this frequency is of the whole population."
   ]
  },
  {
   "cell_type": "code",
   "execution_count": 59,
   "metadata": {
    "id": "uk_I5z7UgbDs"
   },
   "outputs": [
    {
     "name": "stdout",
     "output_type": "stream",
     "text": [
      "The characteristic with the highest number of court cases is: age\n",
      "('age', 'disability', 'gender reassignment', 'marriage and civil partnership', 'pregnancy and maternity', 'race', 'religion or belief', 'sex', 'sexual orientation')\n"
     ]
    },
    {
     "name": "stdin",
     "output_type": "stream",
     "text": [
      "Which characteristic do you want info for sexual orientation\n"
     ]
    },
    {
     "name": "stdout",
     "output_type": "stream",
     "text": [
      "Characteristic: sexual orientation\n",
      "Frequency: 182\n",
      "Percentage of whole pop: 10.184667039731393%\n"
     ]
    }
   ],
   "source": [
    "def analyseCourt():\n",
    "    most_common = max(protected_characteristics, key=characteristics.count)\n",
    "    print(\"The characteristic with the highest number of court cases is:\", most_common)\n",
    "    print(protected_characteristics)\n",
    "    \n",
    "    checkData = input(\"Which characteristic do you want info for\")\n",
    "    while checkData not in protected_characteristics:\n",
    "        print(\"Not valid, try again\")\n",
    "        checkData = input(\"Which characteristic do you want info for\")\n",
    "    \n",
    "    frequency = characteristics.count(checkData)\n",
    "    percentage = (frequency / len(characteristics)) * 100\n",
    "    \n",
    "    print(f\"Characteristic: {checkData}\")\n",
    "    print(f\"Frequency: {frequency}\")\n",
    "    print(f\"Percentage of whole pop: {percentage}%\")\n",
    "analyseCourt()"
   ]
  },
  {
   "cell_type": "code",
   "execution_count": null,
   "metadata": {},
   "outputs": [],
   "source": []
  },
  {
   "cell_type": "code",
   "execution_count": null,
   "metadata": {},
   "outputs": [],
   "source": []
  }
 ],
 "metadata": {
  "colab": {
   "authorship_tag": "ABX9TyNKY6nmfw/dRvSbr1k5jYr+",
   "collapsed_sections": [],
   "include_colab_link": true,
   "name": "Lists and Tuples.ipynb",
   "provenance": []
  },
  "kernelspec": {
   "display_name": "Python 3 (ipykernel)",
   "language": "python",
   "name": "python3"
  },
  "language_info": {
   "codemirror_mode": {
    "name": "ipython",
    "version": 3
   },
   "file_extension": ".py",
   "mimetype": "text/x-python",
   "name": "python",
   "nbconvert_exporter": "python",
   "pygments_lexer": "ipython3",
   "version": "3.11.4"
  }
 },
 "nbformat": 4,
 "nbformat_minor": 4
}
