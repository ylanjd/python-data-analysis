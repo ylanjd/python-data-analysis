{
 "cells": [
  {
   "cell_type": "markdown",
   "metadata": {
    "colab_type": "text",
    "id": "view-in-github"
   },
   "source": [
    "<a href=\"https://colab.research.google.com/github/futureCodersSE/python-programming-for-data/blob/main/Worksheets/4a_Filtering_data_with_Pandas.ipynb\" target=\"_parent\"><img src=\"https://colab.research.google.com/assets/colab-badge.svg\" alt=\"Open In Colab\"/></a>"
   ]
  },
  {
   "cell_type": "markdown",
   "metadata": {
    "id": "3HT6psayWFCc"
   },
   "source": [
    "# Filtering dataframe data\n",
    "\n",
    "Interrogating dataframes\n",
    "---\n",
    "\n",
    "*   single column: `df['column']`\n",
    "*   multiple columns: `df[['column1', 'column2']]`\n",
    "*   filter rows by condition \t`df[df['column'] = condition]`  \n",
    "*   filter by multiple conditions where both are true (AND)  \n",
    "\t`df[(df['column'] = condition1) & (df['column'] = condition2)]`  \n",
    "*   filter by multiple conditions where one or other are true (OR)  \n",
    "\t`df[(df['column'] = condition1)  | (df['column'] = condition2)]`  \n",
    "\n",
    "### Useful Functions\n",
    "\n",
    "---\n",
    "\n",
    "`head()`: will show the first 5 rows of the dataframe.  \n",
    "`tail()`: same as head() but for the last 5 rows.  \n",
    "`len()`: will show the length.  \n",
    "`mode()`: will show the most common value in column.  \n",
    "`mean()`: will show the average of the column.  \n",
    "`sort_values()`: will sort the dataframe.\n",
    "\n",
    "\n",
    "\n"
   ]
  },
  {
   "cell_type": "markdown",
   "metadata": {
    "id": "szKiU-timLdN"
   },
   "source": [
    "## Data Imports & Table Content\n",
    "\n",
    "---\n",
    "\n",
    "In this worksheet you will use data from a dataset in an Excel spreadsheet called public_use-talent-migration.xlsx. This spreadsheet file contains 3 sheets, each with related but different data on migration.   \n",
    "\n",
    "Running the code below will create a dataframe from each of the 3 sheets and will display the column names and data types so that you can start to get an idea of what is in the data.\n",
    "\n",
    "You can then use these dataframes in the exercises, rather than keep re-reading the original files. The 3 dataframes will be called:\n",
    "\n",
    "*  skill_migration\n",
    "*  industry_migration\n",
    "*  country_migration"
   ]
  },
  {
   "cell_type": "code",
   "execution_count": 1,
   "metadata": {
    "id": "ZG_96PAAhaVY",
    "tags": []
   },
   "outputs": [
    {
     "name": "stdout",
     "output_type": "stream",
     "text": [
      "<class 'pandas.core.frame.DataFrame'>\n",
      "RangeIndex: 17617 entries, 0 to 17616\n",
      "Data columns (total 12 columns):\n",
      " #   Column                Non-Null Count  Dtype  \n",
      "---  ------                --------------  -----  \n",
      " 0   country_code          17617 non-null  object \n",
      " 1   country_name          17617 non-null  object \n",
      " 2   wb_income             17617 non-null  object \n",
      " 3   wb_region             17617 non-null  object \n",
      " 4   skill_group_id        17617 non-null  int64  \n",
      " 5   skill_group_category  17617 non-null  object \n",
      " 6   skill_group_name      17617 non-null  object \n",
      " 7   net_per_10K_2015      17617 non-null  float64\n",
      " 8   net_per_10K_2016      17617 non-null  float64\n",
      " 9   net_per_10K_2017      17617 non-null  float64\n",
      " 10  net_per_10K_2018      17617 non-null  float64\n",
      " 11  net_per_10K_2019      17617 non-null  float64\n",
      "dtypes: float64(5), int64(1), object(6)\n",
      "memory usage: 1.6+ MB\n"
     ]
    },
    {
     "data": {
      "text/plain": [
       "None"
      ]
     },
     "metadata": {},
     "output_type": "display_data"
    },
    {
     "name": "stdout",
     "output_type": "stream",
     "text": [
      "<class 'pandas.core.frame.DataFrame'>\n",
      "RangeIndex: 5295 entries, 0 to 5294\n",
      "Data columns (total 13 columns):\n",
      " #   Column              Non-Null Count  Dtype  \n",
      "---  ------              --------------  -----  \n",
      " 0   country_code        5295 non-null   object \n",
      " 1   country_name        5295 non-null   object \n",
      " 2   wb_income           5295 non-null   object \n",
      " 3   wb_region           5295 non-null   object \n",
      " 4   isic_section_index  5295 non-null   object \n",
      " 5   isic_section_name   5295 non-null   object \n",
      " 6   industry_id         5295 non-null   int64  \n",
      " 7   industry_name       5295 non-null   object \n",
      " 8   net_per_10K_2015    5295 non-null   float64\n",
      " 9   net_per_10K_2016    5295 non-null   float64\n",
      " 10  net_per_10K_2017    5295 non-null   float64\n",
      " 11  net_per_10K_2018    5295 non-null   float64\n",
      " 12  net_per_10K_2019    5295 non-null   float64\n",
      "dtypes: float64(5), int64(1), object(7)\n",
      "memory usage: 537.9+ KB\n"
     ]
    },
    {
     "data": {
      "text/plain": [
       "None"
      ]
     },
     "metadata": {},
     "output_type": "display_data"
    },
    {
     "name": "stdout",
     "output_type": "stream",
     "text": [
      "<class 'pandas.core.frame.DataFrame'>\n",
      "RangeIndex: 4148 entries, 0 to 4147\n",
      "Data columns (total 17 columns):\n",
      " #   Column                    Non-Null Count  Dtype  \n",
      "---  ------                    --------------  -----  \n",
      " 0   base_country_code         4148 non-null   object \n",
      " 1   base_country_name         4148 non-null   object \n",
      " 2   base_lat                  4148 non-null   float64\n",
      " 3   base_long                 4148 non-null   float64\n",
      " 4   base_country_wb_income    4148 non-null   object \n",
      " 5   base_country_wb_region    4148 non-null   object \n",
      " 6   target_country_code       4148 non-null   object \n",
      " 7   target_country_name       4148 non-null   object \n",
      " 8   target_lat                4148 non-null   float64\n",
      " 9   target_long               4148 non-null   float64\n",
      " 10  target_country_wb_income  4148 non-null   object \n",
      " 11  target_country_wb_region  4148 non-null   object \n",
      " 12  net_per_10K_2015          4148 non-null   float64\n",
      " 13  net_per_10K_2016          4148 non-null   float64\n",
      " 14  net_per_10K_2017          4148 non-null   float64\n",
      " 15  net_per_10K_2018          4148 non-null   float64\n",
      " 16  net_per_10K_2019          4148 non-null   float64\n",
      "dtypes: float64(9), object(8)\n",
      "memory usage: 551.0+ KB\n"
     ]
    },
    {
     "data": {
      "text/plain": [
       "None"
      ]
     },
     "metadata": {},
     "output_type": "display_data"
    }
   ],
   "source": [
    "import pandas as pd\n",
    "\n",
    "skill_migration = pd.read_excel('https://github.com/futureCodersSE/working-with-data/blob/main/Data%20sets/public_use-talent-migration.xlsx?raw=true', \"Skill Migration\")\n",
    "industry_migration = pd.read_excel('https://github.com/futureCodersSE/working-with-data/blob/main/Data%20sets/public_use-talent-migration.xlsx?raw=true', \"Industry Migration\")\n",
    "country_migration = pd.read_excel('https://github.com/futureCodersSE/working-with-data/blob/main/Data%20sets/public_use-talent-migration.xlsx?raw=true', \"Country Migration\")\n",
    "\n",
    "def get_summary(df):\n",
    "  display(df.info())\n",
    "\n",
    "get_summary(skill_migration)\n",
    "get_summary(industry_migration)\n",
    "get_summary(country_migration)"
   ]
  },
  {
   "cell_type": "markdown",
   "metadata": {
    "id": "fL-D9LkmNr9g"
   },
   "source": [
    "# Exercise 1\n",
    "\n",
    "---\n",
    "\\\n",
    "Write a function that will take the `skill_migration` dataframe as a parameter and will:\n",
    "*  filter for the rows where the `wb_income` contains `High income`.\n",
    "*  return the number of rows (length of the dataframe)."
   ]
  },
  {
   "cell_type": "code",
   "execution_count": 24,
   "metadata": {
    "id": "IHHR1T1kOZmq",
    "tags": []
   },
   "outputs": [
    {
     "name": "stdout",
     "output_type": "stream",
     "text": [
      "Test passed!\n",
      "Expected: 8904\n",
      "Actual: 8904\n"
     ]
    }
   ],
   "source": [
    "def filter_income(skill_migration):\n",
    "  # add code below to find the number of high income countries using the wb_income column\n",
    "    highIncome = skill_migration [skill_migration['wb_income'] == 'High income']\n",
    "    return len(highIncome)\n",
    "#run test to see if you are getting the correct row length\n",
    "actual = filter_income(skill_migration)\n",
    "expected = 8904\n",
    "\n",
    "if actual == expected:\n",
    "  print(\"Test passed!\\nExpected: {}\\nActual: {}\".format(expected, actual))\n",
    "else:\n",
    "  print(\"Test failed!\\nExpected: {}\\nActual: {}\".format(expected, actual))"
   ]
  },
  {
   "cell_type": "markdown",
   "metadata": {
    "id": "rO3uDHEEPhIp"
   },
   "source": [
    "# Exercise 2\n",
    "\n",
    "---\n",
    "\\\n",
    "Write a function that will take the `skill_migration` dataframe, and a particular type of `skill` (e.g. Tech skills) as parameters and will:\n",
    "*  filter for the rows that have a `skill_group_category` equal to the given `skill`.\n",
    "*  return the country that shows up the most in the `country_name` column of the filtered dataframe."
   ]
  },
  {
   "cell_type": "code",
   "execution_count": 15,
   "metadata": {
    "tags": []
   },
   "outputs": [
    {
     "data": {
      "text/html": [
       "<div>\n",
       "<style scoped>\n",
       "    .dataframe tbody tr th:only-of-type {\n",
       "        vertical-align: middle;\n",
       "    }\n",
       "\n",
       "    .dataframe tbody tr th {\n",
       "        vertical-align: top;\n",
       "    }\n",
       "\n",
       "    .dataframe thead th {\n",
       "        text-align: right;\n",
       "    }\n",
       "</style>\n",
       "<table border=\"1\" class=\"dataframe\">\n",
       "  <thead>\n",
       "    <tr style=\"text-align: right;\">\n",
       "      <th></th>\n",
       "      <th>country_code</th>\n",
       "      <th>country_name</th>\n",
       "      <th>wb_income</th>\n",
       "      <th>wb_region</th>\n",
       "      <th>skill_group_id</th>\n",
       "      <th>skill_group_category</th>\n",
       "      <th>skill_group_name</th>\n",
       "      <th>net_per_10K_2015</th>\n",
       "      <th>net_per_10K_2016</th>\n",
       "      <th>net_per_10K_2017</th>\n",
       "      <th>net_per_10K_2018</th>\n",
       "      <th>net_per_10K_2019</th>\n",
       "    </tr>\n",
       "  </thead>\n",
       "  <tbody>\n",
       "    <tr>\n",
       "      <th>0</th>\n",
       "      <td>af</td>\n",
       "      <td>Afghanistan</td>\n",
       "      <td>Low income</td>\n",
       "      <td>South Asia</td>\n",
       "      <td>2549</td>\n",
       "      <td>Tech Skills</td>\n",
       "      <td>Information Management</td>\n",
       "      <td>-791.59</td>\n",
       "      <td>-705.88</td>\n",
       "      <td>-550.04</td>\n",
       "      <td>-680.92</td>\n",
       "      <td>-1208.79</td>\n",
       "    </tr>\n",
       "    <tr>\n",
       "      <th>1</th>\n",
       "      <td>af</td>\n",
       "      <td>Afghanistan</td>\n",
       "      <td>Low income</td>\n",
       "      <td>South Asia</td>\n",
       "      <td>2608</td>\n",
       "      <td>Business Skills</td>\n",
       "      <td>Operational Efficiency</td>\n",
       "      <td>-1610.25</td>\n",
       "      <td>-933.55</td>\n",
       "      <td>-776.06</td>\n",
       "      <td>-532.22</td>\n",
       "      <td>-790.09</td>\n",
       "    </tr>\n",
       "    <tr>\n",
       "      <th>2</th>\n",
       "      <td>af</td>\n",
       "      <td>Afghanistan</td>\n",
       "      <td>Low income</td>\n",
       "      <td>South Asia</td>\n",
       "      <td>3806</td>\n",
       "      <td>Specialized Industry Skills</td>\n",
       "      <td>National Security</td>\n",
       "      <td>-1731.45</td>\n",
       "      <td>-769.68</td>\n",
       "      <td>-756.59</td>\n",
       "      <td>-600.44</td>\n",
       "      <td>-767.64</td>\n",
       "    </tr>\n",
       "    <tr>\n",
       "      <th>3</th>\n",
       "      <td>af</td>\n",
       "      <td>Afghanistan</td>\n",
       "      <td>Low income</td>\n",
       "      <td>South Asia</td>\n",
       "      <td>50321</td>\n",
       "      <td>Tech Skills</td>\n",
       "      <td>Software Testing</td>\n",
       "      <td>-957.50</td>\n",
       "      <td>-828.54</td>\n",
       "      <td>-964.73</td>\n",
       "      <td>-406.50</td>\n",
       "      <td>-739.51</td>\n",
       "    </tr>\n",
       "    <tr>\n",
       "      <th>4</th>\n",
       "      <td>af</td>\n",
       "      <td>Afghanistan</td>\n",
       "      <td>Low income</td>\n",
       "      <td>South Asia</td>\n",
       "      <td>1606</td>\n",
       "      <td>Specialized Industry Skills</td>\n",
       "      <td>Navy</td>\n",
       "      <td>-1510.71</td>\n",
       "      <td>-841.17</td>\n",
       "      <td>-842.32</td>\n",
       "      <td>-581.71</td>\n",
       "      <td>-718.64</td>\n",
       "    </tr>\n",
       "  </tbody>\n",
       "</table>\n",
       "</div>"
      ],
      "text/plain": [
       "  country_code country_name   wb_income   wb_region  skill_group_id  \\\n",
       "0           af  Afghanistan  Low income  South Asia            2549   \n",
       "1           af  Afghanistan  Low income  South Asia            2608   \n",
       "2           af  Afghanistan  Low income  South Asia            3806   \n",
       "3           af  Afghanistan  Low income  South Asia           50321   \n",
       "4           af  Afghanistan  Low income  South Asia            1606   \n",
       "\n",
       "          skill_group_category        skill_group_name  net_per_10K_2015  \\\n",
       "0                  Tech Skills  Information Management           -791.59   \n",
       "1              Business Skills  Operational Efficiency          -1610.25   \n",
       "2  Specialized Industry Skills       National Security          -1731.45   \n",
       "3                  Tech Skills        Software Testing           -957.50   \n",
       "4  Specialized Industry Skills                    Navy          -1510.71   \n",
       "\n",
       "   net_per_10K_2016  net_per_10K_2017  net_per_10K_2018  net_per_10K_2019  \n",
       "0           -705.88           -550.04           -680.92          -1208.79  \n",
       "1           -933.55           -776.06           -532.22           -790.09  \n",
       "2           -769.68           -756.59           -600.44           -767.64  \n",
       "3           -828.54           -964.73           -406.50           -739.51  \n",
       "4           -841.17           -842.32           -581.71           -718.64  "
      ]
     },
     "execution_count": 15,
     "metadata": {},
     "output_type": "execute_result"
    }
   ],
   "source": [
    "skill_migration.head()"
   ]
  },
  {
   "cell_type": "code",
   "execution_count": 30,
   "metadata": {
    "tags": []
   },
   "outputs": [
    {
     "data": {
      "text/plain": [
       "skill_group_category         country_name    \n",
       "Specialized Industry Skills  United Kingdom      166\n",
       "                             United States       166\n",
       "                             Canada              163\n",
       "                             Australia           162\n",
       "                             Germany             159\n",
       "                                                ... \n",
       "Disruptive Tech Skills       Malawi                1\n",
       "                             Togo                  1\n",
       "                             Papua New Guinea      1\n",
       "                             Bahamas, The          1\n",
       "                             Burkina Faso          1\n",
       "Length: 700, dtype: int64"
      ]
     },
     "execution_count": 30,
     "metadata": {},
     "output_type": "execute_result"
    }
   ],
   "source": [
    "filterd = skill_migration[['skill_group_category', 'country_name'] == \"id\"].value_counts()\n",
    "filterd\n"
   ]
  },
  {
   "cell_type": "code",
   "execution_count": 32,
   "metadata": {
    "id": "aYfnMp0RQ4Dr",
    "tags": []
   },
   "outputs": [
    {
     "name": "stdout",
     "output_type": "stream",
     "text": [
      "Test 1 passed!\n",
      "Expected: Australia\n",
      "Actual: Australia\n",
      "\n",
      "Test 2 passed!\n",
      "Expected: Australia\n",
      "Actual: Australia\n",
      "\n",
      "Test 3 passed!\n",
      "Expected: United Kingdom\n",
      "Actual: United Kingdom\n",
      "\n"
     ]
    }
   ],
   "source": [
    "import pandas as pd\n",
    "\n",
    "skill_migration = pd.read_excel('https://github.com/futureCodersSE/working-with-data/blob/main/Data%20sets/public_use-talent-migration.xlsx?raw=true', \"Skill Migration\")\n",
    "\n",
    "def filter_skills(skill_migration, skill):\n",
    "  # add code below to find all rows that have the skill 'skill' and return the most common country (mode)\n",
    "    filtered_rows = skill_migration[skill_migration['skill_group_category'] == skill]\n",
    "    most_common_country = filtered_rows['country_name'].mode()\n",
    "    return most_common_country\n",
    "    #run test to see if you are getting the most frequent country name\n",
    "tests = [\n",
    "    { \"id\": 1, \"actual\": filter_skills(skill_migration, \"Tech Skills\")[0], \"expected\": \"Australia\" },\n",
    "    { \"id\": 2, \"actual\": filter_skills(skill_migration, \"Business Skills\")[0], \"expected\": \"Australia\" },\n",
    "    { \"id\": 3, \"actual\": filter_skills(skill_migration, \"Specialized Industry Skills\")[0], \"expected\": \"United Kingdom\" }\n",
    "]\n",
    "\n",
    "for test in tests:\n",
    "  if test[\"actual\"] == test[\"expected\"]:\n",
    "    print(\"Test {} passed!\\nExpected: {}\\nActual: {}\\n\".format(test[\"id\"], test[\"expected\"], test[\"actual\"]))\n",
    "  else:\n",
    "    print(\"Test {} failed!\\nExpected: {}\\nActual: {}\\n\".format(test[\"id\"], test[\"expected\"], test[\"actual\"]))"
   ]
  },
  {
   "cell_type": "markdown",
   "metadata": {
    "id": "hs4N75oOQ5vy"
   },
   "source": [
    "# Exercise 3\n",
    "\n",
    "---\n",
    "\\\n",
    "Write a function that will take the `skill_migration` dataframe as a parameter and will:\n",
    "*  filter, using two conditions, for the rows where `skill_group_id` is `2265` and `net_per_10K_2019` is greater than `-500`.\n",
    "*  sort the rows in ascending order based on `net_per_10K_2019`\n",
    "*  return the first 5 rows."
   ]
  },
  {
   "cell_type": "code",
   "execution_count": 39,
   "metadata": {
    "id": "eYuGy4UXQ4um"
   },
   "outputs": [
    {
     "name": "stdout",
     "output_type": "stream",
     "text": [
      "Test passed!\n",
      "Expected: 14550 & 5\n",
      "Actual: 14550 & 5\n"
     ]
    }
   ],
   "source": [
    "def filter_skill_id(skill_migration):\n",
    "  # add code below to find all rows that the skill id 2265 with greater than -500 migration and return the first 5 rows when sorted into order of net_per_10K_2019\n",
    "    filtered_rows = skill_migration[(skill_migration['skill_group_id'] == 2265) & (skill_migration['net_per_10K_2019'] > -500)]\n",
    "    sorted_rows = filtered_rows.sort_values(by = 'net_per_10K_2019', ascending=True)\n",
    "    result = sorted_rows.head(5)\n",
    "    return result\n",
    "\n",
    "#run test to see if you are getting the correct first row and only returning 5 items\n",
    "filtered_df = filter_skill_id(skill_migration)\n",
    "actual1 = filtered_df.index[0]\n",
    "expected1 = 14550\n",
    "actual2 = len(filtered_df)\n",
    "expected2 = 5\n",
    "\n",
    "if actual1 == expected1 and actual2 == expected2:\n",
    "  print(\"Test passed!\\nExpected: {} & {}\\nActual: {} & {}\".format(expected1, expected2, actual1, actual2))\n",
    "else:\n",
    "  print(\"Test failed!\\nExpected: {} & {}\\nActual: {} & {}\".format(expected1, expected2, actual1, actual2))"
   ]
  },
  {
   "cell_type": "markdown",
   "metadata": {
    "id": "br8aWPZvRnhA"
   },
   "source": [
    "# Exercise 4\n",
    "\n",
    "---\n",
    "\\\n",
    "Write a function that will take the country_migration dataframe and an amount of net per 10K migrations as parameters and will:\n",
    "*  filter for all rows with a `net_per_10K_2019` less than `amount`\n",
    "*  return the number of rows.\n",
    "\n"
   ]
  },
  {
   "cell_type": "code",
   "execution_count": 43,
   "metadata": {
    "id": "6qL6UNVBRo80"
   },
   "outputs": [
    {
     "name": "stdout",
     "output_type": "stream",
     "text": [
      "Test 1 passed!\n",
      "Expected: 4148\n",
      "Actual: 4148\n",
      "\n",
      "Test 2 passed!\n",
      "Expected: 1980\n",
      "Actual: 1980\n",
      "\n",
      "Test 3 passed!\n",
      "Expected: 0\n",
      "Actual: 0\n",
      "\n"
     ]
    }
   ],
   "source": [
    "def filter_net_per_10k(country_migration, amount):\n",
    "  # add code below to find all the rows where the net_per_10K_2019 is less than the `amount` parameter\n",
    "    sorted_rows = country_migration[country_migration['net_per_10K_2019'] < amount]\n",
    "    return len(sorted_rows)\n",
    "\n",
    "\n",
    "#run test to see if you are getting the correct first row and only returning 5 items\n",
    "tests = [\n",
    "    { \"id\": 1, \"actual\": filter_net_per_10k(country_migration, 100), \"expected\": 4148 },\n",
    "    { \"id\": 2, \"actual\": filter_net_per_10k(country_migration, 0), \"expected\": 1980 },\n",
    "    { \"id\": 3, \"actual\": filter_net_per_10k(country_migration, -100), \"expected\": 0 }\n",
    "]\n",
    "\n",
    "for test in tests:\n",
    "  if test[\"actual\"] == test[\"expected\"]:\n",
    "    print(\"Test {} passed!\\nExpected: {}\\nActual: {}\\n\".format(test[\"id\"], test[\"expected\"], test[\"actual\"]))\n",
    "  else:\n",
    "    print(\"Test {} failed!\\nExpected: {}\\nActual: {}\\n\".format(test[\"id\"], test[\"expected\"], test[\"actual\"]))"
   ]
  },
  {
   "cell_type": "markdown",
   "metadata": {
    "id": "lFXbG6c2SUik"
   },
   "source": [
    "# Exercise 5\n",
    "\n",
    "---\n",
    "\\\n",
    "Write a function that will take the `country_migration` dataframe as a parameter and will:\n",
    "*  filter for all rows that have a `net_per_10K_2015` & `net_per_10K_2016` greater than `50`.\n",
    "*  return the number of rows"
   ]
  },
  {
   "cell_type": "code",
   "execution_count": 44,
   "metadata": {
    "id": "CxfijlHGSW60"
   },
   "outputs": [
    {
     "name": "stdout",
     "output_type": "stream",
     "text": [
      "Test passed!\n",
      "Expected: 3\n",
      "Actual: 3\n"
     ]
    }
   ],
   "source": [
    "def filter_two_net(df):\n",
    "  # add code below to find rows which have migration in 2015 & 2016 greater than 50\n",
    "    sorted_rows = country_migration[(country_migration['net_per_10K_2015'] > 50) & (country_migration['net_per_10K_2016'] > 50)]\n",
    "    return len(sorted_rows)\n",
    "\n",
    "#run test to see if you are getting the correct length of rows\n",
    "actual = filter_two_net(country_migration)\n",
    "expected = 3\n",
    "\n",
    "if actual == expected:\n",
    "  print(\"Test passed!\\nExpected: {}\\nActual: {}\".format(expected, actual))\n",
    "else:\n",
    "  print(\"Test failed!\\nExpected: {}\\nActual: {}\".format(expected, actual))"
   ]
  },
  {
   "cell_type": "markdown",
   "metadata": {
    "id": "OJuBYhzaS3r1"
   },
   "source": [
    "# Exercise 6\n",
    "\n",
    "---\n",
    "\\\n",
    "Write a function that will take the `country_migration` dataframe as a parameter and will:\n",
    "*  filter for all migrations from countries with `Low Income` to countries with `Upper Middle Income`and within the same region ( `base_country_wb_region` is the same as `target_country_wb_region`)\n",
    "*  display the number of rows."
   ]
  },
  {
   "cell_type": "code",
   "execution_count": 53,
   "metadata": {
    "tags": []
   },
   "outputs": [
    {
     "data": {
      "text/html": [
       "<div>\n",
       "<style scoped>\n",
       "    .dataframe tbody tr th:only-of-type {\n",
       "        vertical-align: middle;\n",
       "    }\n",
       "\n",
       "    .dataframe tbody tr th {\n",
       "        vertical-align: top;\n",
       "    }\n",
       "\n",
       "    .dataframe thead th {\n",
       "        text-align: right;\n",
       "    }\n",
       "</style>\n",
       "<table border=\"1\" class=\"dataframe\">\n",
       "  <thead>\n",
       "    <tr style=\"text-align: right;\">\n",
       "      <th></th>\n",
       "      <th>base_country_code</th>\n",
       "      <th>base_country_name</th>\n",
       "      <th>base_lat</th>\n",
       "      <th>base_long</th>\n",
       "      <th>base_country_wb_income</th>\n",
       "      <th>base_country_wb_region</th>\n",
       "      <th>target_country_code</th>\n",
       "      <th>target_country_name</th>\n",
       "      <th>target_lat</th>\n",
       "      <th>target_long</th>\n",
       "      <th>target_country_wb_income</th>\n",
       "      <th>target_country_wb_region</th>\n",
       "      <th>net_per_10K_2015</th>\n",
       "      <th>net_per_10K_2016</th>\n",
       "      <th>net_per_10K_2017</th>\n",
       "      <th>net_per_10K_2018</th>\n",
       "      <th>net_per_10K_2019</th>\n",
       "    </tr>\n",
       "  </thead>\n",
       "  <tbody>\n",
       "    <tr>\n",
       "      <th>693</th>\n",
       "      <td>cd</td>\n",
       "      <td>Congo, Dem. Rep.</td>\n",
       "      <td>-4.038333</td>\n",
       "      <td>21.758664</td>\n",
       "      <td>Low Income</td>\n",
       "      <td>Sub-Saharan Africa</td>\n",
       "      <td>za</td>\n",
       "      <td>South Africa</td>\n",
       "      <td>-30.559482</td>\n",
       "      <td>22.937506</td>\n",
       "      <td>Upper Middle Income</td>\n",
       "      <td>Sub-Saharan Africa</td>\n",
       "      <td>14.13</td>\n",
       "      <td>4.89</td>\n",
       "      <td>2.58</td>\n",
       "      <td>0.95</td>\n",
       "      <td>3.08</td>\n",
       "    </tr>\n",
       "    <tr>\n",
       "      <th>1383</th>\n",
       "      <td>et</td>\n",
       "      <td>Ethiopia</td>\n",
       "      <td>9.145000</td>\n",
       "      <td>40.489673</td>\n",
       "      <td>Low Income</td>\n",
       "      <td>Sub-Saharan Africa</td>\n",
       "      <td>za</td>\n",
       "      <td>South Africa</td>\n",
       "      <td>-30.559482</td>\n",
       "      <td>22.937506</td>\n",
       "      <td>Upper Middle Income</td>\n",
       "      <td>Sub-Saharan Africa</td>\n",
       "      <td>0.51</td>\n",
       "      <td>0.35</td>\n",
       "      <td>0.46</td>\n",
       "      <td>0.05</td>\n",
       "      <td>0.53</td>\n",
       "    </tr>\n",
       "    <tr>\n",
       "      <th>1805</th>\n",
       "      <td>ht</td>\n",
       "      <td>Haiti</td>\n",
       "      <td>18.971187</td>\n",
       "      <td>-72.285215</td>\n",
       "      <td>Low Income</td>\n",
       "      <td>Latin America &amp; Caribbean</td>\n",
       "      <td>do</td>\n",
       "      <td>Dominican Republic</td>\n",
       "      <td>18.735693</td>\n",
       "      <td>-70.162651</td>\n",
       "      <td>Upper Middle Income</td>\n",
       "      <td>Latin America &amp; Caribbean</td>\n",
       "      <td>1.05</td>\n",
       "      <td>1.94</td>\n",
       "      <td>0.26</td>\n",
       "      <td>1.10</td>\n",
       "      <td>-0.52</td>\n",
       "    </tr>\n",
       "    <tr>\n",
       "      <th>2558</th>\n",
       "      <td>mg</td>\n",
       "      <td>Madagascar</td>\n",
       "      <td>-18.766947</td>\n",
       "      <td>46.869107</td>\n",
       "      <td>Low Income</td>\n",
       "      <td>Sub-Saharan Africa</td>\n",
       "      <td>mu</td>\n",
       "      <td>Mauritius</td>\n",
       "      <td>-20.348404</td>\n",
       "      <td>57.552152</td>\n",
       "      <td>Upper Middle Income</td>\n",
       "      <td>Sub-Saharan Africa</td>\n",
       "      <td>0.65</td>\n",
       "      <td>-0.78</td>\n",
       "      <td>-1.38</td>\n",
       "      <td>-1.89</td>\n",
       "      <td>-0.72</td>\n",
       "    </tr>\n",
       "    <tr>\n",
       "      <th>2620</th>\n",
       "      <td>mw</td>\n",
       "      <td>Malawi</td>\n",
       "      <td>-13.254308</td>\n",
       "      <td>34.301525</td>\n",
       "      <td>Low Income</td>\n",
       "      <td>Sub-Saharan Africa</td>\n",
       "      <td>za</td>\n",
       "      <td>South Africa</td>\n",
       "      <td>-30.559482</td>\n",
       "      <td>22.937506</td>\n",
       "      <td>Upper Middle Income</td>\n",
       "      <td>Sub-Saharan Africa</td>\n",
       "      <td>2.39</td>\n",
       "      <td>1.45</td>\n",
       "      <td>-2.12</td>\n",
       "      <td>-0.85</td>\n",
       "      <td>0.00</td>\n",
       "    </tr>\n",
       "  </tbody>\n",
       "</table>\n",
       "</div>"
      ],
      "text/plain": [
       "     base_country_code base_country_name   base_lat  base_long  \\\n",
       "693                 cd  Congo, Dem. Rep.  -4.038333  21.758664   \n",
       "1383                et          Ethiopia   9.145000  40.489673   \n",
       "1805                ht             Haiti  18.971187 -72.285215   \n",
       "2558                mg        Madagascar -18.766947  46.869107   \n",
       "2620                mw            Malawi -13.254308  34.301525   \n",
       "\n",
       "     base_country_wb_income     base_country_wb_region target_country_code  \\\n",
       "693              Low Income         Sub-Saharan Africa                  za   \n",
       "1383             Low Income         Sub-Saharan Africa                  za   \n",
       "1805             Low Income  Latin America & Caribbean                  do   \n",
       "2558             Low Income         Sub-Saharan Africa                  mu   \n",
       "2620             Low Income         Sub-Saharan Africa                  za   \n",
       "\n",
       "     target_country_name  target_lat  target_long target_country_wb_income  \\\n",
       "693         South Africa  -30.559482    22.937506      Upper Middle Income   \n",
       "1383        South Africa  -30.559482    22.937506      Upper Middle Income   \n",
       "1805  Dominican Republic   18.735693   -70.162651      Upper Middle Income   \n",
       "2558           Mauritius  -20.348404    57.552152      Upper Middle Income   \n",
       "2620        South Africa  -30.559482    22.937506      Upper Middle Income   \n",
       "\n",
       "       target_country_wb_region  net_per_10K_2015  net_per_10K_2016  \\\n",
       "693          Sub-Saharan Africa             14.13              4.89   \n",
       "1383         Sub-Saharan Africa              0.51              0.35   \n",
       "1805  Latin America & Caribbean              1.05              1.94   \n",
       "2558         Sub-Saharan Africa              0.65             -0.78   \n",
       "2620         Sub-Saharan Africa              2.39              1.45   \n",
       "\n",
       "      net_per_10K_2017  net_per_10K_2018  net_per_10K_2019  \n",
       "693               2.58              0.95              3.08  \n",
       "1383              0.46              0.05              0.53  \n",
       "1805              0.26              1.10             -0.52  \n",
       "2558             -1.38             -1.89             -0.72  \n",
       "2620             -2.12             -0.85              0.00  "
      ]
     },
     "execution_count": 53,
     "metadata": {},
     "output_type": "execute_result"
    }
   ],
   "source": [
    "filtered_rows = country_migration[(country_migration['base_country_wb_income'] == 'Low Income') & (country_migration['target_country_wb_income'] == 'Upper Middle Income')]\n",
    "\n",
    "filtered_regions = filtered_rows[(filtered_rows['base_country_wb_region'] == filtered_rows['target_country_wb_region'])]\n",
    "filtered_regions.head()"
   ]
  },
  {
   "cell_type": "code",
   "execution_count": 54,
   "metadata": {
    "id": "Wq0i2dCYTPxE"
   },
   "outputs": [
    {
     "name": "stdout",
     "output_type": "stream",
     "text": [
      "Test passed!\n",
      "Expected: 15\n",
      "Actual: 15\n"
     ]
    }
   ],
   "source": [
    "def filter_two_income(df):\n",
    "  # add code below to find all rows of migration from low income to upper middle income and where migration was to the same region\n",
    "    filtered_rows = country_migration[(country_migration['base_country_wb_income'] == 'Low Income') & (country_migration['target_country_wb_income'] == 'Upper Middle Income')]\n",
    "    filtered_regions = filtered_rows[(filtered_rows['base_country_wb_region'] == filtered_rows['target_country_wb_region'])]\n",
    "    return len(filtered_regions)\n",
    "\n",
    "#run test to see if you are getting the correct first length of rows\n",
    "actual = filter_two_income(country_migration)\n",
    "expected = 15\n",
    "\n",
    "if actual == expected:\n",
    "  print(\"Test passed!\\nExpected: {}\\nActual: {}\".format(expected, actual))\n",
    "else:\n",
    "  print(\"Test failed!\\nExpected: {}\\nActual: {}\".format(expected, actual))"
   ]
  },
  {
   "cell_type": "markdown",
   "metadata": {
    "id": "aDvp-O4LTXbp"
   },
   "source": [
    "# Exercise 7\n",
    "\n",
    "---\n",
    "\\\n",
    "Write a function that will take the `industry_migration` dataframe as a parameter and will:\n",
    "*  filter for all rows which have a `isic_section_index` of `M` and the `industry_name`,  `Biotechnology`\n",
    "*  return the number of rows."
   ]
  },
  {
   "cell_type": "code",
   "execution_count": 56,
   "metadata": {
    "id": "n_V5moucTRnP"
   },
   "outputs": [
    {
     "name": "stdout",
     "output_type": "stream",
     "text": [
      "Test passed!\n",
      "Expected: 32\n",
      "Actual: 32\n"
     ]
    }
   ],
   "source": [
    "def filter_industry(df):\n",
    "  # add code below to find all the rows from biotechnology industry with isic section index of M\n",
    "    filtered_rows = industry_migration[(industry_migration['isic_section_index'] == 'M') & (industry_migration['industry_name'] == 'Biotechnology')]\n",
    "    return len(filtered_rows)\n",
    "\n",
    "#run test to see if you are getting the correct length of rows\n",
    "actual = filter_industry(industry_migration)\n",
    "expected = 32\n",
    "\n",
    "if actual == expected:\n",
    "  print(\"Test passed!\\nExpected: {}\\nActual: {}\".format(expected, actual))\n",
    "else:\n",
    "  print(\"Test failed!\\nExpected: {}\\nActual: {}\".format(expected, actual))"
   ]
  },
  {
   "cell_type": "markdown",
   "metadata": {
    "id": "Pu-V4x7oTXg3",
    "tags": []
   },
   "source": [
    "# Exercise 8\n",
    "\n",
    "---\n",
    "\\\n",
    "Write a function that will take the `industry_migration` dataframe as a parameter and will:\n",
    "*  filter for all rows with `industry_name` of `Computer Software` that have a `wb_income` of `Low income`.\n",
    "*  return the filtered dataframe"
   ]
  },
  {
   "cell_type": "code",
   "execution_count": 62,
   "metadata": {
    "id": "WqVliNlGTWXV",
    "tags": []
   },
   "outputs": [
    {
     "name": "stdout",
     "output_type": "stream",
     "text": [
      "Test passed!\n",
      "Expected: 3699 & 1\n",
      "Actual: 3699 & 1\n"
     ]
    }
   ],
   "source": [
    "def filter_industry_income(df):\n",
    "  # add code below to find Low Income Computer Software migrations, return the full set of filtered data\n",
    "    filtered_rows = industry_migration[(industry_migration['industry_name'] == 'Computer Software') & (industry_migration['wb_income'] == 'Low income')]\n",
    "    return filtered_rows\n",
    "\n",
    "#run test to see if you are getting the correct first row and only returning 1 item\n",
    "filtered_df = filter_industry_income(industry_migration)\n",
    "actual1 = filtered_df.index[0]\n",
    "expected1 = 3699\n",
    "actual2 = len(filtered_df)\n",
    "expected2 = 1\n",
    "\n",
    "if actual1 == expected1 and actual2 == expected2:\n",
    "  print(\"Test passed!\\nExpected: {} & {}\\nActual: {} & {}\".format(expected1, expected2, actual1, actual2))\n",
    "else:\n",
    "  print(\"Test failed!\\nExpected: {} & {}\\nActual: {} & {}\".format(expected1, expected2, actual1, actual2))"
   ]
  },
  {
   "cell_type": "markdown",
   "metadata": {
    "id": "O7o6mgU2TXl_"
   },
   "source": [
    "# Exercise 9\n",
    "\n",
    "---\n",
    "\\\n",
    "Write a function that will take the `industry_migration` dataframe as a parameter and will:\n",
    "*  filter for all rows with `country_name` of United States or United Kingdom and a `isic_section_index` of M\n",
    "*  return the average of `net_per_10K_2015`."
   ]
  },
  {
   "cell_type": "code",
   "execution_count": 126,
   "metadata": {
    "id": "izOkixeATWd_"
   },
   "outputs": [
    {
     "name": "stdout",
     "output_type": "stream",
     "text": [
      "Test passed!\n",
      "Expected: 47.28\n",
      "Actual: 47.28\n"
     ]
    }
   ],
   "source": [
    "def filter_country(df):\n",
    "  # add code below to find all USA and UK rows which have ISIC of M and return mean migration in 2015\n",
    "    filtered_rows = industry_migration[(industry_migration['country_name'] == 'United States') | (industry_migration['country_name'] == 'United Kingdom')]\n",
    "    filtered_rows2 = filtered_rows[(filtered_rows['isic_section_index'] == 'M')]\n",
    "    return filtered_rows2['net_per_10K_2015'].mean()\n",
    "\n",
    "#run test to see if you are getting the correct average\n",
    "actual = round(filter_country(industry_migration), 2)\n",
    "expected = 47.28\n",
    "\n",
    "if actual == expected:\n",
    "    print(\"Test passed!\\nExpected: {}\\nActual: {}\".format(expected, actual))\n",
    "else:\n",
    "    print(\"Test failed!\\nExpected: {}\\nActual: {}\".format(expected, actual))"
   ]
  },
  {
   "cell_type": "markdown",
   "metadata": {
    "id": "5tRpo0nz_8I7"
   },
   "source": [
    "# Exercise 10\n",
    "---\n",
    "\\\n",
    "Write a function that will take the `country_migration` dataframe and a base region as paramters and will:\n",
    "*  filter for all migrations to Upper Middle Income and High Income regions (`target_country_wb_income`) from the given region (`base_country_wb_region`)"
   ]
  },
  {
   "cell_type": "code",
   "execution_count": 125,
   "metadata": {
    "id": "LgpA-IDkANsa"
   },
   "outputs": [
    {
     "name": "stdout",
     "output_type": "stream",
     "text": [
      "Test passed!\n",
      "Expected: 432\n",
      "Actual: 432\n"
     ]
    }
   ],
   "source": [
    "def filter_migrations(df, region):\n",
    "    filtered_rows = country_migration[(country_migration['base_country_wb_region'] == \"Middle East & North Africa\")] \n",
    "    filtered_rows2 = filtered_rows[(filtered_rows['target_country_wb_income'] == 'Upper Middle Income') | (filtered_rows['target_country_wb_income'] == 'High Income')]\n",
    "    return len(filtered_rows2)\n",
    "# run test to see if you are getting the correct result\n",
    "actual = filter_migrations(country_migration, \"Middle East & North Africa\")\n",
    "expected = 432\n",
    "\n",
    "if actual == expected:\n",
    "    print(\"Test passed!\\nExpected: {}\\nActual: {}\".format(expected, actual))\n",
    "else:\n",
    "    print(\"Test failed!\\nExpected: {}\\nActual: {}\".format(expected, actual))"
   ]
  },
  {
   "cell_type": "markdown",
   "metadata": {
    "id": "yQyytEbnZ1lw"
   },
   "source": [
    "# Reflection\n",
    "----\n",
    "\n",
    "## What skills have you demonstrated in completing this notebook?"
   ]
  },
  {
   "cell_type": "markdown",
   "metadata": {
    "id": "MM00hR5aZk1-"
   },
   "source": [
    "Your answer:"
   ]
  },
  {
   "cell_type": "markdown",
   "metadata": {
    "id": "Zgexd27sZ1ly"
   },
   "source": [
    "## What caused you the most difficulty?"
   ]
  },
  {
   "cell_type": "markdown",
   "metadata": {
    "id": "-Y_nrVBwaGXr"
   },
   "source": [
    "Your answer: As this is all quite new to me, some more resources on how to write the syntax would have been good. I found understanding what I was to do most difficult, got there in the end. I mostly wrote my code outside of the function, pasting it into the function, as it was easier to see where I'd gone wrong"
   ]
  }
 ],
 "metadata": {
  "colab": {
   "include_colab_link": true,
   "provenance": []
  },
  "kernelspec": {
   "display_name": "Python 3 (ipykernel)",
   "language": "python",
   "name": "python3"
  },
  "language_info": {
   "codemirror_mode": {
    "name": "ipython",
    "version": 3
   },
   "file_extension": ".py",
   "mimetype": "text/x-python",
   "name": "python",
   "nbconvert_exporter": "python",
   "pygments_lexer": "ipython3",
   "version": "3.11.4"
  }
 },
 "nbformat": 4,
 "nbformat_minor": 4
}
